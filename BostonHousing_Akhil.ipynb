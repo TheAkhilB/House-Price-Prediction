{
 "cells": [
  {
   "cell_type": "code",
   "execution_count": 29,
   "metadata": {},
   "outputs": [],
   "source": [
    "import pandas as pd"
   ]
  },
  {
   "cell_type": "code",
   "execution_count": 30,
   "metadata": {},
   "outputs": [],
   "source": [
    "import matplotlib.pyplot as plt"
   ]
  },
  {
   "cell_type": "code",
   "execution_count": 31,
   "metadata": {},
   "outputs": [],
   "source": [
    "import numpy as np"
   ]
  },
  {
   "cell_type": "code",
   "execution_count": 32,
   "metadata": {},
   "outputs": [],
   "source": [
    "import seaborn as sns"
   ]
  },
  {
   "cell_type": "code",
   "execution_count": 33,
   "metadata": {},
   "outputs": [],
   "source": [
    "df= pd.read_csv(\"/home/scypyuser/Akhil/Datasets/Regression/BostonHousing.csv\")"
   ]
  },
  {
   "cell_type": "code",
   "execution_count": 34,
   "metadata": {},
   "outputs": [
    {
     "data": {
      "text/html": [
       "<div>\n",
       "<style scoped>\n",
       "    .dataframe tbody tr th:only-of-type {\n",
       "        vertical-align: middle;\n",
       "    }\n",
       "\n",
       "    .dataframe tbody tr th {\n",
       "        vertical-align: top;\n",
       "    }\n",
       "\n",
       "    .dataframe thead th {\n",
       "        text-align: right;\n",
       "    }\n",
       "</style>\n",
       "<table border=\"1\" class=\"dataframe\">\n",
       "  <thead>\n",
       "    <tr style=\"text-align: right;\">\n",
       "      <th></th>\n",
       "      <th>CRIM</th>\n",
       "      <th>ZN</th>\n",
       "      <th>INDUS</th>\n",
       "      <th>CHAS</th>\n",
       "      <th>NOX</th>\n",
       "      <th>RM</th>\n",
       "      <th>AGE</th>\n",
       "      <th>DIS</th>\n",
       "      <th>RAD</th>\n",
       "      <th>TAX</th>\n",
       "      <th>PTRATIO</th>\n",
       "      <th>B</th>\n",
       "      <th>LSTAT</th>\n",
       "      <th>MEDV</th>\n",
       "    </tr>\n",
       "  </thead>\n",
       "  <tbody>\n",
       "    <tr>\n",
       "      <th>0</th>\n",
       "      <td>0.00632</td>\n",
       "      <td>18.0</td>\n",
       "      <td>2.31</td>\n",
       "      <td>0.0</td>\n",
       "      <td>0.538</td>\n",
       "      <td>6.575</td>\n",
       "      <td>65.2</td>\n",
       "      <td>4.0900</td>\n",
       "      <td>1</td>\n",
       "      <td>296</td>\n",
       "      <td>15.3</td>\n",
       "      <td>396.90</td>\n",
       "      <td>4.98</td>\n",
       "      <td>24.0</td>\n",
       "    </tr>\n",
       "    <tr>\n",
       "      <th>1</th>\n",
       "      <td>0.02731</td>\n",
       "      <td>0.0</td>\n",
       "      <td>7.07</td>\n",
       "      <td>0.0</td>\n",
       "      <td>0.469</td>\n",
       "      <td>6.421</td>\n",
       "      <td>78.9</td>\n",
       "      <td>4.9671</td>\n",
       "      <td>2</td>\n",
       "      <td>242</td>\n",
       "      <td>17.8</td>\n",
       "      <td>396.90</td>\n",
       "      <td>9.14</td>\n",
       "      <td>21.6</td>\n",
       "    </tr>\n",
       "    <tr>\n",
       "      <th>2</th>\n",
       "      <td>0.02729</td>\n",
       "      <td>0.0</td>\n",
       "      <td>7.07</td>\n",
       "      <td>0.0</td>\n",
       "      <td>0.469</td>\n",
       "      <td>7.185</td>\n",
       "      <td>61.1</td>\n",
       "      <td>4.9671</td>\n",
       "      <td>2</td>\n",
       "      <td>242</td>\n",
       "      <td>17.8</td>\n",
       "      <td>392.83</td>\n",
       "      <td>4.03</td>\n",
       "      <td>34.7</td>\n",
       "    </tr>\n",
       "    <tr>\n",
       "      <th>3</th>\n",
       "      <td>0.03237</td>\n",
       "      <td>0.0</td>\n",
       "      <td>2.18</td>\n",
       "      <td>0.0</td>\n",
       "      <td>0.458</td>\n",
       "      <td>6.998</td>\n",
       "      <td>45.8</td>\n",
       "      <td>6.0622</td>\n",
       "      <td>3</td>\n",
       "      <td>222</td>\n",
       "      <td>18.7</td>\n",
       "      <td>394.63</td>\n",
       "      <td>2.94</td>\n",
       "      <td>33.4</td>\n",
       "    </tr>\n",
       "    <tr>\n",
       "      <th>4</th>\n",
       "      <td>0.06905</td>\n",
       "      <td>0.0</td>\n",
       "      <td>2.18</td>\n",
       "      <td>0.0</td>\n",
       "      <td>0.458</td>\n",
       "      <td>7.147</td>\n",
       "      <td>54.2</td>\n",
       "      <td>6.0622</td>\n",
       "      <td>3</td>\n",
       "      <td>222</td>\n",
       "      <td>18.7</td>\n",
       "      <td>396.90</td>\n",
       "      <td>NaN</td>\n",
       "      <td>36.2</td>\n",
       "    </tr>\n",
       "  </tbody>\n",
       "</table>\n",
       "</div>"
      ],
      "text/plain": [
       "      CRIM    ZN  INDUS  CHAS    NOX     RM   AGE     DIS  RAD  TAX  PTRATIO  \\\n",
       "0  0.00632  18.0   2.31   0.0  0.538  6.575  65.2  4.0900    1  296     15.3   \n",
       "1  0.02731   0.0   7.07   0.0  0.469  6.421  78.9  4.9671    2  242     17.8   \n",
       "2  0.02729   0.0   7.07   0.0  0.469  7.185  61.1  4.9671    2  242     17.8   \n",
       "3  0.03237   0.0   2.18   0.0  0.458  6.998  45.8  6.0622    3  222     18.7   \n",
       "4  0.06905   0.0   2.18   0.0  0.458  7.147  54.2  6.0622    3  222     18.7   \n",
       "\n",
       "        B  LSTAT  MEDV  \n",
       "0  396.90   4.98  24.0  \n",
       "1  396.90   9.14  21.6  \n",
       "2  392.83   4.03  34.7  \n",
       "3  394.63   2.94  33.4  \n",
       "4  396.90    NaN  36.2  "
      ]
     },
     "execution_count": 34,
     "metadata": {},
     "output_type": "execute_result"
    }
   ],
   "source": [
    "df.head()"
   ]
  },
  {
   "cell_type": "code",
   "execution_count": 35,
   "metadata": {},
   "outputs": [
    {
     "data": {
      "text/html": [
       "<div>\n",
       "<style scoped>\n",
       "    .dataframe tbody tr th:only-of-type {\n",
       "        vertical-align: middle;\n",
       "    }\n",
       "\n",
       "    .dataframe tbody tr th {\n",
       "        vertical-align: top;\n",
       "    }\n",
       "\n",
       "    .dataframe thead th {\n",
       "        text-align: right;\n",
       "    }\n",
       "</style>\n",
       "<table border=\"1\" class=\"dataframe\">\n",
       "  <thead>\n",
       "    <tr style=\"text-align: right;\">\n",
       "      <th></th>\n",
       "      <th>CRIM</th>\n",
       "      <th>ZN</th>\n",
       "      <th>INDUS</th>\n",
       "      <th>CHAS</th>\n",
       "      <th>NOX</th>\n",
       "      <th>RM</th>\n",
       "      <th>AGE</th>\n",
       "      <th>DIS</th>\n",
       "      <th>RAD</th>\n",
       "      <th>TAX</th>\n",
       "      <th>PTRATIO</th>\n",
       "      <th>B</th>\n",
       "      <th>LSTAT</th>\n",
       "      <th>MEDV</th>\n",
       "    </tr>\n",
       "  </thead>\n",
       "  <tbody>\n",
       "    <tr>\n",
       "      <th>count</th>\n",
       "      <td>486.000000</td>\n",
       "      <td>486.000000</td>\n",
       "      <td>486.000000</td>\n",
       "      <td>486.000000</td>\n",
       "      <td>506.000000</td>\n",
       "      <td>506.000000</td>\n",
       "      <td>486.000000</td>\n",
       "      <td>506.000000</td>\n",
       "      <td>506.000000</td>\n",
       "      <td>506.000000</td>\n",
       "      <td>506.000000</td>\n",
       "      <td>506.000000</td>\n",
       "      <td>486.000000</td>\n",
       "      <td>506.000000</td>\n",
       "    </tr>\n",
       "    <tr>\n",
       "      <th>mean</th>\n",
       "      <td>3.611874</td>\n",
       "      <td>11.211934</td>\n",
       "      <td>11.083992</td>\n",
       "      <td>0.069959</td>\n",
       "      <td>0.554695</td>\n",
       "      <td>6.284634</td>\n",
       "      <td>68.518519</td>\n",
       "      <td>3.795043</td>\n",
       "      <td>9.549407</td>\n",
       "      <td>408.237154</td>\n",
       "      <td>18.455534</td>\n",
       "      <td>356.674032</td>\n",
       "      <td>12.715432</td>\n",
       "      <td>22.532806</td>\n",
       "    </tr>\n",
       "    <tr>\n",
       "      <th>std</th>\n",
       "      <td>8.720192</td>\n",
       "      <td>23.388876</td>\n",
       "      <td>6.835896</td>\n",
       "      <td>0.255340</td>\n",
       "      <td>0.115878</td>\n",
       "      <td>0.702617</td>\n",
       "      <td>27.999513</td>\n",
       "      <td>2.105710</td>\n",
       "      <td>8.707259</td>\n",
       "      <td>168.537116</td>\n",
       "      <td>2.164946</td>\n",
       "      <td>91.294864</td>\n",
       "      <td>7.155871</td>\n",
       "      <td>9.197104</td>\n",
       "    </tr>\n",
       "    <tr>\n",
       "      <th>min</th>\n",
       "      <td>0.006320</td>\n",
       "      <td>0.000000</td>\n",
       "      <td>0.460000</td>\n",
       "      <td>0.000000</td>\n",
       "      <td>0.385000</td>\n",
       "      <td>3.561000</td>\n",
       "      <td>2.900000</td>\n",
       "      <td>1.129600</td>\n",
       "      <td>1.000000</td>\n",
       "      <td>187.000000</td>\n",
       "      <td>12.600000</td>\n",
       "      <td>0.320000</td>\n",
       "      <td>1.730000</td>\n",
       "      <td>5.000000</td>\n",
       "    </tr>\n",
       "    <tr>\n",
       "      <th>25%</th>\n",
       "      <td>0.081900</td>\n",
       "      <td>0.000000</td>\n",
       "      <td>5.190000</td>\n",
       "      <td>0.000000</td>\n",
       "      <td>0.449000</td>\n",
       "      <td>5.885500</td>\n",
       "      <td>45.175000</td>\n",
       "      <td>2.100175</td>\n",
       "      <td>4.000000</td>\n",
       "      <td>279.000000</td>\n",
       "      <td>17.400000</td>\n",
       "      <td>375.377500</td>\n",
       "      <td>7.125000</td>\n",
       "      <td>17.025000</td>\n",
       "    </tr>\n",
       "    <tr>\n",
       "      <th>50%</th>\n",
       "      <td>0.253715</td>\n",
       "      <td>0.000000</td>\n",
       "      <td>9.690000</td>\n",
       "      <td>0.000000</td>\n",
       "      <td>0.538000</td>\n",
       "      <td>6.208500</td>\n",
       "      <td>76.800000</td>\n",
       "      <td>3.207450</td>\n",
       "      <td>5.000000</td>\n",
       "      <td>330.000000</td>\n",
       "      <td>19.050000</td>\n",
       "      <td>391.440000</td>\n",
       "      <td>11.430000</td>\n",
       "      <td>21.200000</td>\n",
       "    </tr>\n",
       "    <tr>\n",
       "      <th>75%</th>\n",
       "      <td>3.560262</td>\n",
       "      <td>12.500000</td>\n",
       "      <td>18.100000</td>\n",
       "      <td>0.000000</td>\n",
       "      <td>0.624000</td>\n",
       "      <td>6.623500</td>\n",
       "      <td>93.975000</td>\n",
       "      <td>5.188425</td>\n",
       "      <td>24.000000</td>\n",
       "      <td>666.000000</td>\n",
       "      <td>20.200000</td>\n",
       "      <td>396.225000</td>\n",
       "      <td>16.955000</td>\n",
       "      <td>25.000000</td>\n",
       "    </tr>\n",
       "    <tr>\n",
       "      <th>max</th>\n",
       "      <td>88.976200</td>\n",
       "      <td>100.000000</td>\n",
       "      <td>27.740000</td>\n",
       "      <td>1.000000</td>\n",
       "      <td>0.871000</td>\n",
       "      <td>8.780000</td>\n",
       "      <td>100.000000</td>\n",
       "      <td>12.126500</td>\n",
       "      <td>24.000000</td>\n",
       "      <td>711.000000</td>\n",
       "      <td>22.000000</td>\n",
       "      <td>396.900000</td>\n",
       "      <td>37.970000</td>\n",
       "      <td>50.000000</td>\n",
       "    </tr>\n",
       "  </tbody>\n",
       "</table>\n",
       "</div>"
      ],
      "text/plain": [
       "             CRIM          ZN       INDUS        CHAS         NOX          RM  \\\n",
       "count  486.000000  486.000000  486.000000  486.000000  506.000000  506.000000   \n",
       "mean     3.611874   11.211934   11.083992    0.069959    0.554695    6.284634   \n",
       "std      8.720192   23.388876    6.835896    0.255340    0.115878    0.702617   \n",
       "min      0.006320    0.000000    0.460000    0.000000    0.385000    3.561000   \n",
       "25%      0.081900    0.000000    5.190000    0.000000    0.449000    5.885500   \n",
       "50%      0.253715    0.000000    9.690000    0.000000    0.538000    6.208500   \n",
       "75%      3.560262   12.500000   18.100000    0.000000    0.624000    6.623500   \n",
       "max     88.976200  100.000000   27.740000    1.000000    0.871000    8.780000   \n",
       "\n",
       "              AGE         DIS         RAD         TAX     PTRATIO           B  \\\n",
       "count  486.000000  506.000000  506.000000  506.000000  506.000000  506.000000   \n",
       "mean    68.518519    3.795043    9.549407  408.237154   18.455534  356.674032   \n",
       "std     27.999513    2.105710    8.707259  168.537116    2.164946   91.294864   \n",
       "min      2.900000    1.129600    1.000000  187.000000   12.600000    0.320000   \n",
       "25%     45.175000    2.100175    4.000000  279.000000   17.400000  375.377500   \n",
       "50%     76.800000    3.207450    5.000000  330.000000   19.050000  391.440000   \n",
       "75%     93.975000    5.188425   24.000000  666.000000   20.200000  396.225000   \n",
       "max    100.000000   12.126500   24.000000  711.000000   22.000000  396.900000   \n",
       "\n",
       "            LSTAT        MEDV  \n",
       "count  486.000000  506.000000  \n",
       "mean    12.715432   22.532806  \n",
       "std      7.155871    9.197104  \n",
       "min      1.730000    5.000000  \n",
       "25%      7.125000   17.025000  \n",
       "50%     11.430000   21.200000  \n",
       "75%     16.955000   25.000000  \n",
       "max     37.970000   50.000000  "
      ]
     },
     "execution_count": 35,
     "metadata": {},
     "output_type": "execute_result"
    }
   ],
   "source": [
    "df.describe()"
   ]
  },
  {
   "cell_type": "code",
   "execution_count": 36,
   "metadata": {},
   "outputs": [
    {
     "data": {
      "text/plain": [
       "CRIM       float64\n",
       "ZN         float64\n",
       "INDUS      float64\n",
       "CHAS       float64\n",
       "NOX        float64\n",
       "RM         float64\n",
       "AGE        float64\n",
       "DIS        float64\n",
       "RAD          int64\n",
       "TAX          int64\n",
       "PTRATIO    float64\n",
       "B          float64\n",
       "LSTAT      float64\n",
       "MEDV       float64\n",
       "dtype: object"
      ]
     },
     "execution_count": 36,
     "metadata": {},
     "output_type": "execute_result"
    }
   ],
   "source": [
    "df.dtypes"
   ]
  },
  {
   "cell_type": "code",
   "execution_count": 37,
   "metadata": {},
   "outputs": [
    {
     "data": {
      "text/plain": [
       "(506, 14)"
      ]
     },
     "execution_count": 37,
     "metadata": {},
     "output_type": "execute_result"
    }
   ],
   "source": [
    "df.shape"
   ]
  },
  {
   "cell_type": "code",
   "execution_count": 46,
   "metadata": {},
   "outputs": [
    {
     "data": {
      "text/plain": [
       "CRIM       20\n",
       "ZN         20\n",
       "INDUS      20\n",
       "CHAS       20\n",
       "NOX         0\n",
       "RM          0\n",
       "AGE        20\n",
       "DIS         0\n",
       "RAD         0\n",
       "TAX         0\n",
       "PTRATIO     0\n",
       "B           0\n",
       "LSTAT      20\n",
       "MEDV        0\n",
       "dtype: int64"
      ]
     },
     "execution_count": 46,
     "metadata": {},
     "output_type": "execute_result"
    }
   ],
   "source": [
    "df.isnull().sum()"
   ]
  },
  {
   "cell_type": "code",
   "execution_count": 41,
   "metadata": {},
   "outputs": [
    {
     "data": {
      "text/plain": [
       "Index(['CRIM', 'ZN', 'INDUS', 'CHAS', 'NOX', 'RM', 'AGE', 'DIS', 'RAD', 'TAX',\n",
       "       'PTRATIO', 'B', 'LSTAT', 'MEDV'],\n",
       "      dtype='object')"
      ]
     },
     "execution_count": 41,
     "metadata": {},
     "output_type": "execute_result"
    }
   ],
   "source": [
    "df.columns"
   ]
  },
  {
   "cell_type": "code",
   "execution_count": 47,
   "metadata": {},
   "outputs": [],
   "source": [
    "df1 = df.fillna(df.mean(),axis = 0)"
   ]
  },
  {
   "cell_type": "code",
   "execution_count": 49,
   "metadata": {},
   "outputs": [
    {
     "data": {
      "text/plain": [
       "CRIM       0\n",
       "ZN         0\n",
       "INDUS      0\n",
       "CHAS       0\n",
       "NOX        0\n",
       "RM         0\n",
       "AGE        0\n",
       "DIS        0\n",
       "RAD        0\n",
       "TAX        0\n",
       "PTRATIO    0\n",
       "B          0\n",
       "LSTAT      0\n",
       "MEDV       0\n",
       "dtype: int64"
      ]
     },
     "execution_count": 49,
     "metadata": {},
     "output_type": "execute_result"
    }
   ],
   "source": [
    "df1.isnull().sum()"
   ]
  },
  {
   "cell_type": "code",
   "execution_count": 58,
   "metadata": {},
   "outputs": [
    {
     "data": {
      "text/plain": [
       "<matplotlib.axes._subplots.AxesSubplot at 0x7f9478276438>"
      ]
     },
     "execution_count": 58,
     "metadata": {},
     "output_type": "execute_result"
    },
    {
     "data": {
      "image/png": "[encoded data removed]",
      "text/plain": [
       "<Figure size 864x576 with 1 Axes>"
      ]
     },
     "metadata": {
      "needs_background": "light"
     },
     "output_type": "display_data"
    }
   ],
   "source": [
    "plt.figure(figsize=(12,8))\n",
    "sns.scatterplot(data=df1, x='CRIM', y='MEDV')"
   ]
  },
  {
   "cell_type": "code",
   "execution_count": 59,
   "metadata": {
    "scrolled": false
   },
   "outputs": [
    {
     "data": {
      "text/plain": [
       "<matplotlib.axes._subplots.AxesSubplot at 0x7f947829fda0>"
      ]
     },
     "execution_count": 59,
     "metadata": {},
     "output_type": "execute_result"
    },
    {
     "data": {
      "image/png": "[encoded data removed]",
      "text/plain": [
       "<Figure size 864x576 with 1 Axes>"
      ]
     },
     "metadata": {
      "needs_background": "light"
     },
     "output_type": "display_data"
    }
   ],
   "source": [
    "plt.figure(figsize=(12,8))\n",
    "sns.scatterplot(data=df1, x='AGE', y= 'MEDV')"
   ]
  },
  {
   "cell_type": "code",
   "execution_count": 61,
   "metadata": {},
   "outputs": [
    {
     "data": {
      "text/plain": [
       "<matplotlib.axes._subplots.AxesSubplot at 0x7f94781b9be0>"
      ]
     },
     "execution_count": 61,
     "metadata": {},
     "output_type": "execute_result"
    },
    {
     "data": {
      "image/png": "[encoded data removed]",
      "text/plain": [
       "<Figure size 864x576 with 1 Axes>"
      ]
     },
     "metadata": {
      "needs_background": "light"
     },
     "output_type": "display_data"
    }
   ],
   "source": [
    "plt.figure(figsize=(12,8))\n",
    "sns.scatterplot(data=df1, x='PTRATIO', y= 'MEDV')"
   ]
  },
  {
   "cell_type": "code",
   "execution_count": 62,
   "metadata": {
    "scrolled": true
   },
   "outputs": [
    {
     "data": {
      "text/plain": [
       "<matplotlib.axes._subplots.AxesSubplot at 0x7f9478128d68>"
      ]
     },
     "execution_count": 62,
     "metadata": {},
     "output_type": "execute_result"
    },
    {
     "data": {
      "image/png": "[encoded data removed]",
      "text/plain": [
       "<Figure size 864x576 with 1 Axes>"
      ]
     },
     "metadata": {
      "needs_background": "light"
     },
     "output_type": "display_data"
    }
   ],
   "source": [
    "plt.figure(figsize=(12,8))\n",
    "sns.scatterplot(data=df1, x='DIS', y= 'MEDV')"
   ]
  },
  {
   "cell_type": "code",
   "execution_count": 63,
   "metadata": {},
   "outputs": [],
   "source": [
    "import plotly.express as px"
   ]
  },
  {
   "cell_type": "code",
   "execution_count": 64,
   "metadata": {},
   "outputs": [],
   "source": [
    "fig = px.scatter(df1,x = 'DIS', y='MEDV',color='AGE')"
   ]
  },
  {
   "cell_type": "code",
   "execution_count": 65,
   "metadata": {},
   "outputs": [
    {
     "data": {
      "application/vnd.plotly.v1+json": {
       "config": {
        "plotlyServerURL": "https://plot.ly"
       },
       "data": [
        {
         "hovertemplate": "DIS=%{x}<br>MEDV=%{y}<br>AGE=%{marker.color}<extra></extra>",
         "legendgroup": "",
         "marker": {
          "color": [
           65.2,
           78.9,
           61.1,
           45.8,
           54.2,
           58.7,
           66.6,
           96.1,
           100,
           85.9,
           94.3,
           82.9,
           39,
           61.8,
           84.5,
           56.5,
           29.3,
           81.7,
           36.6,
           69.5,
           98.1,
           89.2,
           91.7,
           100,
           94.1,
           85.7,
           90.3,
           88.8,
           94.4,
           87.3,
           94.1,
           100,
           82,
           95,
           96.9,
           68.2,
           61.4,
           41.5,
           30.2,
           21.8,
           15.8,
           2.9,
           6.6,
           6.5,
           40,
           33.8,
           33.3,
           85.5,
           95.3,
           62,
           45.7,
           63,
           21.1,
           21.4,
           47.6,
           21.9,
           35.7,
           40.5,
           29.2,
           47.2,
           66.2,
           93.4,
           67.8,
           43.4,
           59.5,
           17.8,
           31.1,
           21.4,
           36.8,
           33,
           6.6,
           17.5,
           7.8,
           6.2,
           68.51851851851852,
           45,
           74.5,
           45.8,
           53.7,
           36.6,
           33.5,
           70.4,
           32.2,
           46.7,
           48,
           56.1,
           45.1,
           56.8,
           86.3,
           63.1,
           66.1,
           73.9,
           53.6,
           28.9,
           77.3,
           57.8,
           69.6,
           76,
           36.9,
           62.5,
           79.9,
           71.3,
           85.4,
           68.51851851851852,
           90,
           96.7,
           91.9,
           85.2,
           97.1,
           91.2,
           54.4,
           81.6,
           92.9,
           95.4,
           84.2,
           88.2,
           72.5,
           82.6,
           73.1,
           65.2,
           69.7,
           84.1,
           92.9,
           97,
           95.8,
           88.4,
           68.51851851851852,
           96,
           98.8,
           94.7,
           98.9,
           97.7,
           97.9,
           95.4,
           98.4,
           98.2,
           93.5,
           98.4,
           68.51851851851852,
           97.9,
           93.6,
           100,
           100,
           100,
           97.8,
           100,
           100,
           95.7,
           93.8,
           94.9,
           68.51851851851852,
           100,
           88,
           98.5,
           96,
           68.51851851851852,
           94,
           97.4,
           100,
           100,
           92.6,
           90.8,
           98.2,
           68.51851851851852,
           91.8,
           93,
           96.2,
           79.2,
           96.1,
           95.2,
           94.6,
           97.3,
           88.5,
           68.51851851851852,
           68.7,
           33.1,
           47.2,
           73.4,
           74.4,
           58.4,
           83.3,
           62.2,
           92.2,
           95.6,
           89.8,
           68.8,
           53.6,
           41.1,
           29.1,
           38.9,
           21.5,
           30.8,
           26.3,
           68.51851851851852,
           18.8,
           32,
           34.1,
           36.6,
           38.3,
           15.3,
           13.9,
           38.4,
           15.7,
           33.2,
           31.9,
           22.3,
           52.5,
           72.7,
           59.1,
           100,
           92.1,
           88.6,
           53.8,
           32.3,
           9.8,
           68.51851851851852,
           56,
           85.1,
           93.8,
           92.4,
           88.5,
           91.3,
           77.7,
           80.8,
           78.3,
           83,
           86.5,
           79.9,
           17,
           21.4,
           68.1,
           76.9,
           73.3,
           68.51851851851852,
           66.5,
           61.5,
           76.5,
           71.6,
           18.5,
           42.2,
           54.3,
           65.1,
           52.9,
           7.8,
           76.5,
           70.2,
           34.9,
           79.2,
           49.1,
           17.5,
           13,
           8.9,
           6.8,
           8.4,
           32,
           19.1,
           34.2,
           86.9,
           100,
           100,
           81.8,
           89.4,
           91.5,
           94.5,
           91.6,
           62.8,
           84.6,
           67,
           52.6,
           61.5,
           42.1,
           16.3,
           58.7,
           51.8,
           32.9,
           42.8,
           49,
           27.6,
           32.1,
           32.2,
           64.5,
           68.51851851851852,
           49.7,
           24.8,
           20.8,
           31.9,
           68.51851851851852,
           31.3,
           45.6,
           22.9,
           27.9,
           27.7,
           23.4,
           18.4,
           42.3,
           31.1,
           51,
           58,
           20.1,
           10,
           47.4,
           40.4,
           18.4,
           17.7,
           41.1,
           58.1,
           71.9,
           70.3,
           82.5,
           76.7,
           37.8,
           52.8,
           90.4,
           82.8,
           87.3,
           77.7,
           68.51851851851852,
           71.7,
           67.2,
           58.8,
           52.3,
           54.3,
           49.9,
           74.3,
           40.1,
           14.7,
           28.9,
           43.7,
           25.8,
           17.2,
           32.2,
           28.4,
           23.3,
           38.1,
           38.5,
           34.5,
           46.3,
           59.6,
           37.3,
           45.4,
           58.5,
           49.3,
           59.7,
           56.4,
           28.1,
           48.5,
           52.3,
           27.7,
           29.7,
           34.5,
           44.4,
           35.9,
           18.5,
           36.1,
           21.9,
           68.51851851851852,
           97.4,
           91,
           83.4,
           81.3,
           88,
           91.1,
           96.2,
           89,
           82.9,
           87.9,
           91.4,
           100,
           68.51851851851852,
           96.8,
           97.5,
           100,
           89.6,
           100,
           100,
           97.9,
           93.3,
           98.8,
           96.2,
           100,
           91.9,
           99.1,
           100,
           100,
           91.2,
           98.1,
           100,
           89.5,
           100,
           98.9,
           97,
           82.5,
           97,
           92.6,
           94.7,
           98.8,
           96,
           98.9,
           100,
           77.8,
           100,
           100,
           100,
           96,
           85.4,
           100,
           100,
           100,
           97.9,
           100,
           100,
           100,
           100,
           100,
           100,
           100,
           90.8,
           89.1,
           100,
           76.5,
           100,
           95.3,
           87.6,
           68.51851851851852,
           70.6,
           95.4,
           59.7,
           78.7,
           78.1,
           68.51851851851852,
           86.1,
           94.3,
           74.8,
           87.9,
           95,
           94.6,
           93.3,
           100,
           87.9,
           93.9,
           92.4,
           97.2,
           100,
           100,
           96.6,
           94.8,
           96.4,
           96.6,
           98.7,
           98.3,
           92.6,
           68.51851851851852,
           91.8,
           99.3,
           94.1,
           86.5,
           87.9,
           80.3,
           83.7,
           84.4,
           90,
           88.4,
           83,
           89.9,
           65.4,
           48.2,
           84.7,
           94.5,
           71,
           56.7,
           84,
           90.7,
           75,
           67.6,
           95.4,
           97.4,
           93.6,
           97.3,
           96.7,
           88,
           64.7,
           74.9,
           77,
           40.3,
           41.9,
           51.9,
           79.8,
           53.2,
           92.7,
           98.3,
           98,
           98.8,
           83.5,
           54,
           42.6,
           28.8,
           72.9,
           70.6,
           65.3,
           73.5,
           79.7,
           69.1,
           76.7,
           91,
           89.3,
           68.51851851851852
          ],
          "coloraxis": "coloraxis",
          "symbol": "circle"
         },
         "mode": "markers",
         "name": "",
         "orientation": "v",
         "showlegend": false,
         "type": "scatter",
         "x": [
          4.09,
          4.9671,
          4.9671,
          6.0622,
          6.0622,
          6.0622,
          5.5605,
          5.9505,
          6.0821,
          6.5921,
          6.3467,
          6.2267,
          5.4509,
          4.7075,
          4.4619,
          4.4986,
          4.4986,
          4.2579,
          3.7965,
          3.7965,
          3.7979,
          4.0123,
          3.9769,
          4.0952,
          4.3996,
          4.4546,
          4.6819999999999995,
          4.4534,
          4.4547,
          4.239,
          4.2330000000000005,
          4.175,
          3.99,
          3.7872,
          3.7598,
          3.3603,
          3.3779,
          3.9342,
          3.8473,
          5.4011,
          5.4011,
          5.7209,
          5.7209,
          5.7209,
          5.7209,
          5.1004,
          5.1004,
          5.6894,
          5.87,
          6.0877,
          6.8147,
          6.8147,
          6.8147,
          6.8147,
          7.3197,
          8.6966,
          9.1876,
          8.3248,
          7.8148,
          6.932,
          7.2254,
          6.8185,
          7.2255,
          7.9809,
          9.2229,
          6.6115,
          6.6115,
          6.497999999999999,
          6.497999999999999,
          6.497999999999999,
          5.2873,
          5.2873,
          5.2873,
          5.2873,
          4.2515,
          4.5026,
          4.0522,
          4.0905,
          5.0141,
          4.5026,
          5.4007,
          5.4007,
          5.4007,
          5.4007,
          4.7794,
          4.4377,
          4.4272,
          3.7476,
          3.4217,
          3.4145,
          3.0923,
          3.0921,
          3.6659,
          3.6659,
          3.615,
          3.4952,
          3.4952,
          3.4952,
          3.4952,
          3.4952,
          2.7778,
          2.8561,
          2.7147,
          2.7147,
          2.421,
          2.1069,
          2.211,
          2.1224,
          2.4329,
          2.5451,
          2.7778,
          2.6775,
          2.3534,
          2.548,
          2.2565,
          2.4631,
          2.7301,
          2.7474,
          2.4775,
          2.7592,
          2.2577,
          2.1974,
          2.0869,
          1.9444,
          2.0063,
          1.9929,
          1.7572,
          1.7883,
          1.8125,
          1.9799,
          2.1185,
          2.271,
          2.3274,
          2.4699,
          2.346,
          2.1107,
          1.9669,
          1.8498,
          1.6686,
          1.6687,
          1.6119,
          1.4394,
          1.3216,
          1.4118,
          1.3459,
          1.4191,
          1.5166,
          1.4608,
          1.5296,
          1.5257,
          1.618,
          1.5916,
          1.6102,
          1.6232,
          1.7494,
          1.7455,
          1.7364,
          1.8773,
          1.7573,
          1.7659,
          1.7984,
          1.9709,
          2.0407,
          2.162,
          2.4219999999999997,
          2.2834,
          2.0459,
          2.4259,
          2.1,
          2.2625,
          2.4259,
          2.3887,
          2.5961,
          2.6463,
          2.7019,
          3.1323,
          3.5549,
          3.3175,
          2.9153,
          2.8289999999999997,
          2.741,
          2.5979,
          2.7006,
          2.847,
          2.9879,
          3.2797,
          3.1992,
          3.7886,
          4.5667,
          4.5667,
          6.4798,
          6.4798,
          6.4798,
          6.2196,
          6.2196,
          5.6484,
          7.309,
          7.309,
          7.309,
          7.6534,
          7.6534,
          6.27,
          6.27,
          5.118,
          5.118,
          3.9454,
          4.3549,
          4.3549,
          4.2392,
          3.875,
          3.8771,
          3.665,
          3.6526,
          3.9454,
          3.5875,
          3.9454,
          3.1121,
          3.4211,
          2.8893,
          3.3633,
          2.8617,
          3.048,
          3.2721,
          3.2721,
          2.8944,
          2.8944,
          3.2157,
          3.2157,
          3.3751,
          3.3751,
          3.6715,
          3.6715,
          3.8384,
          3.6519,
          3.6519,
          3.6519,
          4.148,
          4.148,
          6.1899,
          6.1899,
          6.3361,
          6.3361,
          7.0355,
          7.0355,
          7.9549,
          7.9549,
          8.0555,
          8.0555,
          7.8265,
          7.8265,
          7.3967,
          7.3967,
          8.9067,
          8.9067,
          9.2203,
          9.2203,
          6.3361,
          1.801,
          1.8946,
          2.0107,
          2.1121,
          2.1398,
          2.2885,
          2.0788,
          1.9301,
          1.9865,
          2.1329,
          2.4216,
          2.872,
          3.9175,
          4.428999999999999,
          4.428999999999999,
          3.9175,
          4.3665,
          4.0776,
          4.2673,
          4.7872,
          4.8628,
          4.1403,
          4.1007,
          4.6947,
          5.2447,
          5.2119,
          5.885,
          7.3073,
          7.3073,
          9.0892,
          7.3172,
          7.3172,
          7.3172,
          5.1167,
          5.1167,
          5.1167,
          5.5027,
          5.5027,
          5.9604,
          5.9604,
          6.32,
          7.8278,
          7.8278,
          7.8278,
          5.4917,
          5.4917,
          5.4917,
          4.022,
          3.37,
          3.0992,
          3.1827,
          3.3175,
          3.1025,
          2.5194,
          2.6403,
          2.8339999999999996,
          3.2628,
          3.6023,
          3.945,
          3.9986,
          4.0317,
          3.5325,
          4.0019,
          4.5404,
          4.5404,
          4.7211,
          4.7211,
          4.7211,
          5.4159,
          5.4159,
          5.4159,
          5.2146,
          5.2146,
          5.8736,
          6.6407,
          6.6407,
          6.4584,
          6.4584,
          5.9853,
          5.2311,
          5.615,
          4.8122,
          4.8122,
          4.8122,
          7.0379,
          6.2669,
          5.7321,
          6.4654,
          8.0136,
          8.0136,
          8.5353,
          8.344,
          8.7921,
          8.7921,
          10.7103,
          10.7103,
          12.1265,
          10.5857,
          10.5857,
          2.1222,
          2.5052,
          2.7227,
          2.5091,
          2.5182,
          2.2955,
          2.1036,
          1.9047,
          1.9047,
          1.6132,
          1.7523,
          1.5106,
          1.3325,
          1.3567,
          1.2024,
          1.1691,
          1.1296,
          1.1742,
          1.137,
          1.3163,
          1.3449,
          1.358,
          1.3861,
          1.3861,
          1.4165,
          1.5192,
          1.5804,
          1.5331,
          1.4395,
          1.4261,
          1.4672,
          1.5184,
          1.5895,
          1.7281,
          1.9265,
          2.1678,
          1.77,
          1.7912,
          1.7821,
          1.7257,
          1.6768,
          1.6334,
          1.4896,
          1.5004,
          1.5888,
          1.5741,
          1.639,
          1.7028,
          1.6074,
          1.4254,
          1.1781,
          1.2852,
          1.4547,
          1.4655,
          1.413,
          1.5275,
          1.5539,
          1.5894,
          1.6582,
          1.8347,
          1.8195,
          1.6475,
          1.8026,
          1.794,
          1.8589,
          1.8746,
          1.9512,
          2.0218,
          2.0635,
          1.9096,
          1.9976,
          1.8629,
          1.9356,
          1.9682,
          2.0527,
          2.0882,
          2.2004,
          2.3158,
          2.2222,
          2.1247,
          2.0026,
          1.9142,
          1.8206,
          1.8172,
          1.8662,
          2.0651,
          2.0048,
          1.9784,
          1.8956,
          1.9879,
          2.072,
          2.198,
          2.2616,
          2.185,
          2.3236,
          2.3552,
          2.3682,
          2.4527,
          2.4961,
          2.4358,
          2.5806,
          2.7792,
          2.7831,
          2.7175,
          2.5975,
          2.5671,
          2.7344,
          2.8016,
          2.9634,
          3.0665,
          2.8715,
          2.5403,
          2.9084,
          2.8237,
          3.0334,
          3.0993,
          2.8965,
          2.5329,
          2.4298,
          2.206,
          2.3053,
          2.1007,
          2.1705,
          1.9512,
          3.4242,
          3.3317,
          3.4106,
          4.0983,
          3.7239999999999998,
          3.9917,
          3.5459,
          3.1523,
          1.8209,
          1.7554,
          1.8226,
          1.8681,
          2.1099,
          2.3817,
          2.3817,
          2.7986,
          2.7986,
          2.8927,
          2.4091,
          2.3999,
          2.4982,
          2.4786,
          2.2875,
          2.1675,
          2.3889,
          2.505
         ],
         "xaxis": "x",
         "y": [
          24,
          21.6,
          34.7,
          33.4,
          36.2,
          28.7,
          22.9,
          27.1,
          16.5,
          18.9,
          15,
          18.9,
          21.7,
          20.4,
          18.2,
          19.9,
          23.1,
          17.5,
          20.2,
          18.2,
          13.6,
          19.6,
          15.2,
          14.5,
          15.6,
          13.9,
          16.6,
          14.8,
          18.4,
          21,
          12.7,
          14.5,
          13.2,
          13.1,
          13.5,
          18.9,
          20,
          21,
          24.7,
          30.8,
          34.9,
          26.6,
          25.3,
          24.7,
          21.2,
          19.3,
          20,
          16.6,
          14.4,
          19.4,
          19.7,
          20.5,
          25,
          23.4,
          18.9,
          35.4,
          24.7,
          31.6,
          23.3,
          19.6,
          18.7,
          16,
          22.2,
          25,
          33,
          23.5,
          19.4,
          22,
          17.4,
          20.9,
          24.2,
          21.7,
          22.8,
          23.4,
          24.1,
          21.4,
          20,
          20.8,
          21.2,
          20.3,
          28,
          23.9,
          24.8,
          22.9,
          23.9,
          26.6,
          22.5,
          22.2,
          23.6,
          28.7,
          22.6,
          22,
          22.9,
          25,
          20.6,
          28.4,
          21.4,
          38.7,
          43.8,
          33.2,
          27.5,
          26.5,
          18.6,
          19.3,
          20.1,
          19.5,
          19.5,
          20.4,
          19.8,
          19.4,
          21.7,
          22.8,
          18.8,
          18.7,
          18.5,
          18.3,
          21.2,
          19.2,
          20.4,
          19.3,
          22,
          20.3,
          20.5,
          17.3,
          18.8,
          21.4,
          15.7,
          16.2,
          18,
          14.3,
          19.2,
          19.6,
          23,
          18.4,
          15.6,
          18.1,
          17.4,
          17.1,
          13.3,
          17.8,
          14,
          14.4,
          13.4,
          15.6,
          11.8,
          13.8,
          15.6,
          14.6,
          17.8,
          15.4,
          21.5,
          19.6,
          15.3,
          19.4,
          17,
          15.6,
          13.1,
          41.3,
          24.3,
          23.3,
          27,
          50,
          50,
          50,
          22.7,
          25,
          50,
          23.8,
          23.8,
          22.3,
          17.4,
          19.1,
          23.1,
          23.6,
          22.6,
          29.4,
          23.2,
          24.6,
          29.9,
          37.2,
          39.8,
          36.2,
          37.9,
          32.5,
          26.4,
          29.6,
          50,
          32,
          29.8,
          34.9,
          37,
          30.5,
          36.4,
          31.1,
          29.1,
          50,
          33.3,
          30.3,
          34.6,
          34.9,
          32.9,
          24.1,
          42.3,
          48.5,
          50,
          22.6,
          24.4,
          22.5,
          24.4,
          20,
          21.7,
          19.3,
          22.4,
          28.1,
          23.7,
          25,
          23.3,
          28.7,
          21.5,
          23,
          26.7,
          21.7,
          27.5,
          30.1,
          44.8,
          50,
          37.6,
          31.6,
          46.7,
          31.5,
          24.3,
          31.7,
          41.7,
          48.3,
          29,
          24,
          25.1,
          31.5,
          23.7,
          23.3,
          22,
          20.1,
          22.2,
          23.7,
          17.6,
          18.5,
          24.3,
          20.5,
          24.5,
          26.2,
          24.4,
          24.8,
          29.6,
          42.8,
          21.9,
          20.9,
          44,
          50,
          36,
          30.1,
          33.8,
          43.1,
          48.8,
          31,
          36.5,
          22.8,
          30.7,
          50,
          43.5,
          20.7,
          21.1,
          25.2,
          24.4,
          35.2,
          32.4,
          32,
          33.2,
          33.1,
          29.1,
          35.1,
          45.4,
          35.4,
          46,
          50,
          32.2,
          22,
          20.1,
          23.2,
          22.3,
          24.8,
          28.5,
          37.3,
          27.9,
          23.9,
          21.7,
          28.6,
          27.1,
          20.3,
          22.5,
          29,
          24.8,
          22,
          26.4,
          33.1,
          36.1,
          28.4,
          33.4,
          28.2,
          22.8,
          20.3,
          16.1,
          22.1,
          19.4,
          21.6,
          23.8,
          16.2,
          17.8,
          19.8,
          23.1,
          21,
          23.8,
          23.1,
          20.4,
          18.5,
          25,
          24.6,
          23,
          22.2,
          19.3,
          22.6,
          19.8,
          17.1,
          19.4,
          22.2,
          20.7,
          21.1,
          19.5,
          18.5,
          20.6,
          19,
          18.7,
          32.7,
          16.5,
          23.9,
          31.2,
          17.5,
          17.2,
          23.1,
          24.5,
          26.6,
          22.9,
          24.1,
          18.6,
          30.1,
          18.2,
          20.6,
          17.8,
          21.7,
          22.7,
          22.6,
          25,
          19.9,
          20.8,
          16.8,
          21.9,
          27.5,
          21.9,
          23.1,
          50,
          50,
          50,
          50,
          50,
          13.8,
          13.8,
          15,
          13.9,
          13.3,
          13.1,
          10.2,
          10.4,
          10.9,
          11.3,
          12.3,
          8.8,
          7.2,
          10.5,
          7.4,
          10.2,
          11.5,
          15.1,
          23.2,
          9.7,
          13.8,
          12.7,
          13.1,
          12.5,
          8.5,
          5,
          6.3,
          5.6,
          7.2,
          12.1,
          8.3,
          8.5,
          5,
          11.9,
          27.9,
          17.2,
          27.5,
          15,
          17.2,
          17.9,
          16.3,
          7,
          7.2,
          7.5,
          10.4,
          8.8,
          8.4,
          16.7,
          14.2,
          20.8,
          13.4,
          11.7,
          8.3,
          10.2,
          10.9,
          11,
          9.5,
          14.5,
          14.1,
          16.1,
          14.3,
          11.7,
          13.4,
          9.6,
          8.7,
          8.4,
          12.8,
          10.5,
          17.1,
          18.4,
          15.4,
          10.8,
          11.8,
          14.9,
          12.6,
          14.1,
          13,
          13.4,
          15.2,
          16.1,
          17.8,
          14.9,
          14.1,
          12.7,
          13.5,
          14.9,
          20,
          16.4,
          17.7,
          19.5,
          20.2,
          21.4,
          19.9,
          19,
          19.1,
          19.1,
          20.1,
          19.9,
          19.6,
          23.2,
          29.8,
          13.8,
          13.3,
          16.7,
          12,
          14.6,
          21.4,
          23,
          23.7,
          25,
          21.8,
          20.6,
          21.2,
          19.1,
          20.6,
          15.2,
          7,
          8.1,
          13.6,
          20.1,
          21.8,
          24.5,
          23.1,
          19.7,
          18.3,
          21.2,
          17.5,
          16.8,
          22.4,
          20.6,
          23.9,
          22,
          11.9
         ],
         "yaxis": "y"
        }
       ],
       "layout": {
        "coloraxis": {
         "colorbar": {
          "title": {
           "text": "AGE"
          }
         },
         "colorscale": [
          [
           0,
           "#0d0887"
          ],
          [
           0.1111111111111111,
           "#46039f"
          ],
          [
           0.2222222222222222,
           "#7201a8"
          ],
          [
           0.3333333333333333,
           "#9c179e"
          ],
          [
           0.4444444444444444,
           "#bd3786"
          ],
          [
           0.5555555555555556,
           "#d8576b"
          ],
          [
           0.6666666666666666,
           "#ed7953"
          ],
          [
           0.7777777777777778,
           "#fb9f3a"
          ],
          [
           0.8888888888888888,
           "#fdca26"
          ],
          [
           1,
           "#f0f921"
          ]
         ]
        },
        "legend": {
         "tracegroupgap": 0
        },
        "margin": {
         "t": 60
        },
        "template": {
         "data": {
          "bar": [
           {
            "error_x": {
             "color": "#2a3f5f"
            },
            "error_y": {
             "color": "#2a3f5f"
            },
            "marker": {
             "line": {
              "color": "#E5ECF6",
              "width": 0.5
             },
             "pattern": {
              "fillmode": "overlay",
              "size": 10,
              "solidity": 0.2
             }
            },
            "type": "bar"
           }
          ],
          "barpolar": [
           {
            "marker": {
             "line": {
              "color": "#E5ECF6",
              "width": 0.5
             },
             "pattern": {
              "fillmode": "overlay",
              "size": 10,
              "solidity": 0.2
             }
            },
            "type": "barpolar"
           }
          ],
          "carpet": [
           {
            "aaxis": {
             "endlinecolor": "#2a3f5f",
             "gridcolor": "white",
             "linecolor": "white",
             "minorgridcolor": "white",
             "startlinecolor": "#2a3f5f"
            },
            "baxis": {
             "endlinecolor": "#2a3f5f",
             "gridcolor": "white",
             "linecolor": "white",
             "minorgridcolor": "white",
             "startlinecolor": "#2a3f5f"
            },
            "type": "carpet"
           }
          ],
          "choropleth": [
           {
            "colorbar": {
             "outlinewidth": 0,
             "ticks": ""
            },
            "type": "choropleth"
           }
          ],
          "contour": [
           {
            "colorbar": {
             "outlinewidth": 0,
             "ticks": ""
            },
            "colorscale": [
             [
              0,
              "#0d0887"
             ],
             [
              0.1111111111111111,
              "#46039f"
             ],
             [
              0.2222222222222222,
              "#7201a8"
             ],
             [
              0.3333333333333333,
              "#9c179e"
             ],
             [
              0.4444444444444444,
              "#bd3786"
             ],
             [
              0.5555555555555556,
              "#d8576b"
             ],
             [
              0.6666666666666666,
              "#ed7953"
             ],
             [
              0.7777777777777778,
              "#fb9f3a"
             ],
             [
              0.8888888888888888,
              "#fdca26"
             ],
             [
              1,
              "#f0f921"
             ]
            ],
            "type": "contour"
           }
          ],
          "contourcarpet": [
           {
            "colorbar": {
             "outlinewidth": 0,
             "ticks": ""
            },
            "type": "contourcarpet"
           }
          ],
          "heatmap": [
           {
            "colorbar": {
             "outlinewidth": 0,
             "ticks": ""
            },
            "colorscale": [
             [
              0,
              "#0d0887"
             ],
             [
              0.1111111111111111,
              "#46039f"
             ],
             [
              0.2222222222222222,
              "#7201a8"
             ],
             [
              0.3333333333333333,
              "#9c179e"
             ],
             [
              0.4444444444444444,
              "#bd3786"
             ],
             [
              0.5555555555555556,
              "#d8576b"
             ],
             [
              0.6666666666666666,
              "#ed7953"
             ],
             [
              0.7777777777777778,
              "#fb9f3a"
             ],
             [
              0.8888888888888888,
              "#fdca26"
             ],
             [
              1,
              "#f0f921"
             ]
            ],
            "type": "heatmap"
           }
          ],
          "heatmapgl": [
           {
            "colorbar": {
             "outlinewidth": 0,
             "ticks": ""
            },
            "colorscale": [
             [
              0,
              "#0d0887"
             ],
             [
              0.1111111111111111,
              "#46039f"
             ],
             [
              0.2222222222222222,
              "#7201a8"
             ],
             [
              0.3333333333333333,
              "#9c179e"
             ],
             [
              0.4444444444444444,
              "#bd3786"
             ],
             [
              0.5555555555555556,
              "#d8576b"
             ],
             [
              0.6666666666666666,
              "#ed7953"
             ],
             [
              0.7777777777777778,
              "#fb9f3a"
             ],
             [
              0.8888888888888888,
              "#fdca26"
             ],
             [
              1,
              "#f0f921"
             ]
            ],
            "type": "heatmapgl"
           }
          ],
          "histogram": [
           {
            "marker": {
             "pattern": {
              "fillmode": "overlay",
              "size": 10,
              "solidity": 0.2
             }
            },
            "type": "histogram"
           }
          ],
          "histogram2d": [
           {
            "colorbar": {
             "outlinewidth": 0,
             "ticks": ""
            },
            "colorscale": [
             [
              0,
              "#0d0887"
             ],
             [
              0.1111111111111111,
              "#46039f"
             ],
             [
              0.2222222222222222,
              "#7201a8"
             ],
             [
              0.3333333333333333,
              "#9c179e"
             ],
             [
              0.4444444444444444,
              "#bd3786"
             ],
             [
              0.5555555555555556,
              "#d8576b"
             ],
             [
              0.6666666666666666,
              "#ed7953"
             ],
             [
              0.7777777777777778,
              "#fb9f3a"
             ],
             [
              0.8888888888888888,
              "#fdca26"
             ],
             [
              1,
              "#f0f921"
             ]
            ],
            "type": "histogram2d"
           }
          ],
          "histogram2dcontour": [
           {
            "colorbar": {
             "outlinewidth": 0,
             "ticks": ""
            },
            "colorscale": [
             [
              0,
              "#0d0887"
             ],
             [
              0.1111111111111111,
              "#46039f"
             ],
             [
              0.2222222222222222,
              "#7201a8"
             ],
             [
              0.3333333333333333,
              "#9c179e"
             ],
             [
              0.4444444444444444,
              "#bd3786"
             ],
             [
              0.5555555555555556,
              "#d8576b"
             ],
             [
              0.6666666666666666,
              "#ed7953"
             ],
             [
              0.7777777777777778,
              "#fb9f3a"
             ],
             [
              0.8888888888888888,
              "#fdca26"
             ],
             [
              1,
              "#f0f921"
             ]
            ],
            "type": "histogram2dcontour"
           }
          ],
          "mesh3d": [
           {
            "colorbar": {
             "outlinewidth": 0,
             "ticks": ""
            },
            "type": "mesh3d"
           }
          ],
          "parcoords": [
           {
            "line": {
             "colorbar": {
              "outlinewidth": 0,
              "ticks": ""
             }
            },
            "type": "parcoords"
           }
          ],
          "pie": [
           {
            "automargin": true,
            "type": "pie"
           }
          ],
          "scatter": [
           {
            "marker": {
             "colorbar": {
              "outlinewidth": 0,
              "ticks": ""
             }
            },
            "type": "scatter"
           }
          ],
          "scatter3d": [
           {
            "line": {
             "colorbar": {
              "outlinewidth": 0,
              "ticks": ""
             }
            },
            "marker": {
             "colorbar": {
              "outlinewidth": 0,
              "ticks": ""
             }
            },
            "type": "scatter3d"
           }
          ],
          "scattercarpet": [
           {
            "marker": {
             "colorbar": {
              "outlinewidth": 0,
              "ticks": ""
             }
            },
            "type": "scattercarpet"
           }
          ],
          "scattergeo": [
           {
            "marker": {
             "colorbar": {
              "outlinewidth": 0,
              "ticks": ""
             }
            },
            "type": "scattergeo"
           }
          ],
          "scattergl": [
           {
            "marker": {
             "colorbar": {
              "outlinewidth": 0,
              "ticks": ""
             }
            },
            "type": "scattergl"
           }
          ],
          "scattermapbox": [
           {
            "marker": {
             "colorbar": {
              "outlinewidth": 0,
              "ticks": ""
             }
            },
            "type": "scattermapbox"
           }
          ],
          "scatterpolar": [
           {
            "marker": {
             "colorbar": {
              "outlinewidth": 0,
              "ticks": ""
             }
            },
            "type": "scatterpolar"
           }
          ],
          "scatterpolargl": [
           {
            "marker": {
             "colorbar": {
              "outlinewidth": 0,
              "ticks": ""
             }
            },
            "type": "scatterpolargl"
           }
          ],
          "scatterternary": [
           {
            "marker": {
             "colorbar": {
              "outlinewidth": 0,
              "ticks": ""
             }
            },
            "type": "scatterternary"
           }
          ],
          "surface": [
           {
            "colorbar": {
             "outlinewidth": 0,
             "ticks": ""
            },
            "colorscale": [
             [
              0,
              "#0d0887"
             ],
             [
              0.1111111111111111,
              "#46039f"
             ],
             [
              0.2222222222222222,
              "#7201a8"
             ],
             [
              0.3333333333333333,
              "#9c179e"
             ],
             [
              0.4444444444444444,
              "#bd3786"
             ],
             [
              0.5555555555555556,
              "#d8576b"
             ],
             [
              0.6666666666666666,
              "#ed7953"
             ],
             [
              0.7777777777777778,
              "#fb9f3a"
             ],
             [
              0.8888888888888888,
              "#fdca26"
             ],
             [
              1,
              "#f0f921"
             ]
            ],
            "type": "surface"
           }
          ],
          "table": [
           {
            "cells": {
             "fill": {
              "color": "#EBF0F8"
             },
             "line": {
              "color": "white"
             }
            },
            "header": {
             "fill": {
              "color": "#C8D4E3"
             },
             "line": {
              "color": "white"
             }
            },
            "type": "table"
           }
          ]
         },
         "layout": {
          "annotationdefaults": {
           "arrowcolor": "#2a3f5f",
           "arrowhead": 0,
           "arrowwidth": 1
          },
          "autotypenumbers": "strict",
          "coloraxis": {
           "colorbar": {
            "outlinewidth": 0,
            "ticks": ""
           }
          },
          "colorscale": {
           "diverging": [
            [
             0,
             "#8e0152"
            ],
            [
             0.1,
             "#c51b7d"
            ],
            [
             0.2,
             "#de77ae"
            ],
            [
             0.3,
             "#f1b6da"
            ],
            [
             0.4,
             "#fde0ef"
            ],
            [
             0.5,
             "#f7f7f7"
            ],
            [
             0.6,
             "#e6f5d0"
            ],
            [
             0.7,
             "#b8e186"
            ],
            [
             0.8,
             "#7fbc41"
            ],
            [
             0.9,
             "#4d9221"
            ],
            [
             1,
             "#276419"
            ]
           ],
           "sequential": [
            [
             0,
             "#0d0887"
            ],
            [
             0.1111111111111111,
             "#46039f"
            ],
            [
             0.2222222222222222,
             "#7201a8"
            ],
            [
             0.3333333333333333,
             "#9c179e"
            ],
            [
             0.4444444444444444,
             "#bd3786"
            ],
            [
             0.5555555555555556,
             "#d8576b"
            ],
            [
             0.6666666666666666,
             "#ed7953"
            ],
            [
             0.7777777777777778,
             "#fb9f3a"
            ],
            [
             0.8888888888888888,
             "#fdca26"
            ],
            [
             1,
             "#f0f921"
            ]
           ],
           "sequentialminus": [
            [
             0,
             "#0d0887"
            ],
            [
             0.1111111111111111,
             "#46039f"
            ],
            [
             0.2222222222222222,
             "#7201a8"
            ],
            [
             0.3333333333333333,
             "#9c179e"
            ],
            [
             0.4444444444444444,
             "#bd3786"
            ],
            [
             0.5555555555555556,
             "#d8576b"
            ],
            [
             0.6666666666666666,
             "#ed7953"
            ],
            [
             0.7777777777777778,
             "#fb9f3a"
            ],
            [
             0.8888888888888888,
             "#fdca26"
            ],
            [
             1,
             "#f0f921"
            ]
           ]
          },
          "colorway": [
           "#636efa",
           "#EF553B",
           "#00cc96",
           "#ab63fa",
           "#FFA15A",
           "#19d3f3",
           "#FF6692",
           "#B6E880",
           "#FF97FF",
           "#FECB52"
          ],
          "font": {
           "color": "#2a3f5f"
          },
          "geo": {
           "bgcolor": "white",
           "lakecolor": "white",
           "landcolor": "#E5ECF6",
           "showlakes": true,
           "showland": true,
           "subunitcolor": "white"
          },
          "hoverlabel": {
           "align": "left"
          },
          "hovermode": "closest",
          "mapbox": {
           "style": "light"
          },
          "paper_bgcolor": "white",
          "plot_bgcolor": "#E5ECF6",
          "polar": {
           "angularaxis": {
            "gridcolor": "white",
            "linecolor": "white",
            "ticks": ""
           },
           "bgcolor": "#E5ECF6",
           "radialaxis": {
            "gridcolor": "white",
            "linecolor": "white",
            "ticks": ""
           }
          },
          "scene": {
           "xaxis": {
            "backgroundcolor": "#E5ECF6",
            "gridcolor": "white",
            "gridwidth": 2,
            "linecolor": "white",
            "showbackground": true,
            "ticks": "",
            "zerolinecolor": "white"
           },
           "yaxis": {
            "backgroundcolor": "#E5ECF6",
            "gridcolor": "white",
            "gridwidth": 2,
            "linecolor": "white",
            "showbackground": true,
            "ticks": "",
            "zerolinecolor": "white"
           },
           "zaxis": {
            "backgroundcolor": "#E5ECF6",
            "gridcolor": "white",
            "gridwidth": 2,
            "linecolor": "white",
            "showbackground": true,
            "ticks": "",
            "zerolinecolor": "white"
           }
          },
          "shapedefaults": {
           "line": {
            "color": "#2a3f5f"
           }
          },
          "ternary": {
           "aaxis": {
            "gridcolor": "white",
            "linecolor": "white",
            "ticks": ""
           },
           "baxis": {
            "gridcolor": "white",
            "linecolor": "white",
            "ticks": ""
           },
           "bgcolor": "#E5ECF6",
           "caxis": {
            "gridcolor": "white",
            "linecolor": "white",
            "ticks": ""
           }
          },
          "title": {
           "x": 0.05
          },
          "xaxis": {
           "automargin": true,
           "gridcolor": "white",
           "linecolor": "white",
           "ticks": "",
           "title": {
            "standoff": 15
           },
           "zerolinecolor": "white",
           "zerolinewidth": 2
          },
          "yaxis": {
           "automargin": true,
           "gridcolor": "white",
           "linecolor": "white",
           "ticks": "",
           "title": {
            "standoff": 15
           },
           "zerolinecolor": "white",
           "zerolinewidth": 2
          }
         }
        },
        "xaxis": {
         "anchor": "y",
         "domain": [
          0,
          1
         ],
         "title": {
          "text": "DIS"
         }
        },
        "yaxis": {
         "anchor": "x",
         "domain": [
          0,
          1
         ],
         "title": {
          "text": "MEDV"
         }
        }
       }
      },
      "text/html": [
       "<div>                            <div id=\"0cbb6f0b-b18f-4d59-9681-50671099ca07\" class=\"plotly-graph-div\" style=\"height:525px; width:100%;\"></div>            <script type=\"text/javascript\">                require([\"plotly\"], function(Plotly) {                    window.PLOTLYENV=window.PLOTLYENV || {};                                    if (document.getElementById(\"0cbb6f0b-b18f-4d59-9681-50671099ca07\")) {                    Plotly.newPlot(                        \"0cbb6f0b-b18f-4d59-9681-50671099ca07\",                        [{\"hovertemplate\":\"DIS=%{x}<br>MEDV=%{y}<br>AGE=%{marker.color}<extra></extra>\",\"legendgroup\":\"\",\"marker\":{\"color\":[65.2,78.9,61.1,45.8,54.2,58.7,66.6,96.1,100.0,85.9,94.3,82.9,39.0,61.8,84.5,56.5,29.3,81.7,36.6,69.5,98.1,89.2,91.7,100.0,94.1,85.7,90.3,88.8,94.4,87.3,94.1,100.0,82.0,95.0,96.9,68.2,61.4,41.5,30.2,21.8,15.8,2.9,6.6,6.5,40.0,33.8,33.3,85.5,95.3,62.0,45.7,63.0,21.1,21.4,47.6,21.9,35.7,40.5,29.2,47.2,66.2,93.4,67.8,43.4,59.5,17.8,31.1,21.4,36.8,33.0,6.6,17.5,7.8,6.2,68.51851851851852,45.0,74.5,45.8,53.7,36.6,33.5,70.4,32.2,46.7,48.0,56.1,45.1,56.8,86.3,63.1,66.1,73.9,53.6,28.9,77.3,57.8,69.6,76.0,36.9,62.5,79.9,71.3,85.4,68.51851851851852,90.0,96.7,91.9,85.2,97.1,91.2,54.4,81.6,92.9,95.4,84.2,88.2,72.5,82.6,73.1,65.2,69.7,84.1,92.9,97.0,95.8,88.4,68.51851851851852,96.0,98.8,94.7,98.9,97.7,97.9,95.4,98.4,98.2,93.5,98.4,68.51851851851852,97.9,93.6,100.0,100.0,100.0,97.8,100.0,100.0,95.7,93.8,94.9,68.51851851851852,100.0,88.0,98.5,96.0,68.51851851851852,94.0,97.4,100.0,100.0,92.6,90.8,98.2,68.51851851851852,91.8,93.0,96.2,79.2,96.1,95.2,94.6,97.3,88.5,68.51851851851852,68.7,33.1,47.2,73.4,74.4,58.4,83.3,62.2,92.2,95.6,89.8,68.8,53.6,41.1,29.1,38.9,21.5,30.8,26.3,68.51851851851852,18.8,32.0,34.1,36.6,38.3,15.3,13.9,38.4,15.7,33.2,31.9,22.3,52.5,72.7,59.1,100.0,92.1,88.6,53.8,32.3,9.8,68.51851851851852,56.0,85.1,93.8,92.4,88.5,91.3,77.7,80.8,78.3,83.0,86.5,79.9,17.0,21.4,68.1,76.9,73.3,68.51851851851852,66.5,61.5,76.5,71.6,18.5,42.2,54.3,65.1,52.9,7.8,76.5,70.2,34.9,79.2,49.1,17.5,13.0,8.9,6.8,8.4,32.0,19.1,34.2,86.9,100.0,100.0,81.8,89.4,91.5,94.5,91.6,62.8,84.6,67.0,52.6,61.5,42.1,16.3,58.7,51.8,32.9,42.8,49.0,27.6,32.1,32.2,64.5,68.51851851851852,49.7,24.8,20.8,31.9,68.51851851851852,31.3,45.6,22.9,27.9,27.7,23.4,18.4,42.3,31.1,51.0,58.0,20.1,10.0,47.4,40.4,18.4,17.7,41.1,58.1,71.9,70.3,82.5,76.7,37.8,52.8,90.4,82.8,87.3,77.7,68.51851851851852,71.7,67.2,58.8,52.3,54.3,49.9,74.3,40.1,14.7,28.9,43.7,25.8,17.2,32.2,28.4,23.3,38.1,38.5,34.5,46.3,59.6,37.3,45.4,58.5,49.3,59.7,56.4,28.1,48.5,52.3,27.7,29.7,34.5,44.4,35.9,18.5,36.1,21.9,68.51851851851852,97.4,91.0,83.4,81.3,88.0,91.1,96.2,89.0,82.9,87.9,91.4,100.0,68.51851851851852,96.8,97.5,100.0,89.6,100.0,100.0,97.9,93.3,98.8,96.2,100.0,91.9,99.1,100.0,100.0,91.2,98.1,100.0,89.5,100.0,98.9,97.0,82.5,97.0,92.6,94.7,98.8,96.0,98.9,100.0,77.8,100.0,100.0,100.0,96.0,85.4,100.0,100.0,100.0,97.9,100.0,100.0,100.0,100.0,100.0,100.0,100.0,90.8,89.1,100.0,76.5,100.0,95.3,87.6,68.51851851851852,70.6,95.4,59.7,78.7,78.1,68.51851851851852,86.1,94.3,74.8,87.9,95.0,94.6,93.3,100.0,87.9,93.9,92.4,97.2,100.0,100.0,96.6,94.8,96.4,96.6,98.7,98.3,92.6,68.51851851851852,91.8,99.3,94.1,86.5,87.9,80.3,83.7,84.4,90.0,88.4,83.0,89.9,65.4,48.2,84.7,94.5,71.0,56.7,84.0,90.7,75.0,67.6,95.4,97.4,93.6,97.3,96.7,88.0,64.7,74.9,77.0,40.3,41.9,51.9,79.8,53.2,92.7,98.3,98.0,98.8,83.5,54.0,42.6,28.8,72.9,70.6,65.3,73.5,79.7,69.1,76.7,91.0,89.3,68.51851851851852],\"coloraxis\":\"coloraxis\",\"symbol\":\"circle\"},\"mode\":\"markers\",\"name\":\"\",\"orientation\":\"v\",\"showlegend\":false,\"type\":\"scatter\",\"x\":[4.09,4.9671,4.9671,6.0622,6.0622,6.0622,5.5605,5.9505,6.0821,6.5921,6.3467,6.2267,5.4509,4.7075,4.4619,4.4986,4.4986,4.2579,3.7965,3.7965,3.7979,4.0123,3.9769,4.0952,4.3996,4.4546,4.6819999999999995,4.4534,4.4547,4.239,4.2330000000000005,4.175,3.99,3.7872,3.7598,3.3603,3.3779,3.9342,3.8473,5.4011,5.4011,5.7209,5.7209,5.7209,5.7209,5.1004,5.1004,5.6894,5.87,6.0877,6.8147,6.8147,6.8147,6.8147,7.3197,8.6966,9.1876,8.3248,7.8148,6.932,7.2254,6.8185,7.2255,7.9809,9.2229,6.6115,6.6115,6.497999999999999,6.497999999999999,6.497999999999999,5.2873,5.2873,5.2873,5.2873,4.2515,4.5026,4.0522,4.0905,5.0141,4.5026,5.4007,5.4007,5.4007,5.4007,4.7794,4.4377,4.4272,3.7476,3.4217,3.4145,3.0923,3.0921,3.6659,3.6659,3.615,3.4952,3.4952,3.4952,3.4952,3.4952,2.7778,2.8561,2.7147,2.7147,2.421,2.1069,2.211,2.1224,2.4329,2.5451,2.7778,2.6775,2.3534,2.548,2.2565,2.4631,2.7301,2.7474,2.4775,2.7592,2.2577,2.1974,2.0869,1.9444,2.0063,1.9929,1.7572,1.7883,1.8125,1.9799,2.1185,2.271,2.3274,2.4699,2.346,2.1107,1.9669,1.8498,1.6686,1.6687,1.6119,1.4394,1.3216,1.4118,1.3459,1.4191,1.5166,1.4608,1.5296,1.5257,1.618,1.5916,1.6102,1.6232,1.7494,1.7455,1.7364,1.8773,1.7573,1.7659,1.7984,1.9709,2.0407,2.162,2.4219999999999997,2.2834,2.0459,2.4259,2.1,2.2625,2.4259,2.3887,2.5961,2.6463,2.7019,3.1323,3.5549,3.3175,2.9153,2.8289999999999997,2.741,2.5979,2.7006,2.847,2.9879,3.2797,3.1992,3.7886,4.5667,4.5667,6.4798,6.4798,6.4798,6.2196,6.2196,5.6484,7.309,7.309,7.309,7.6534,7.6534,6.27,6.27,5.118,5.118,3.9454,4.3549,4.3549,4.2392,3.875,3.8771,3.665,3.6526,3.9454,3.5875,3.9454,3.1121,3.4211,2.8893,3.3633,2.8617,3.048,3.2721,3.2721,2.8944,2.8944,3.2157,3.2157,3.3751,3.3751,3.6715,3.6715,3.8384,3.6519,3.6519,3.6519,4.148,4.148,6.1899,6.1899,6.3361,6.3361,7.0355,7.0355,7.9549,7.9549,8.0555,8.0555,7.8265,7.8265,7.3967,7.3967,8.9067,8.9067,9.2203,9.2203,6.3361,1.801,1.8946,2.0107,2.1121,2.1398,2.2885,2.0788,1.9301,1.9865,2.1329,2.4216,2.872,3.9175,4.428999999999999,4.428999999999999,3.9175,4.3665,4.0776,4.2673,4.7872,4.8628,4.1403,4.1007,4.6947,5.2447,5.2119,5.885,7.3073,7.3073,9.0892,7.3172,7.3172,7.3172,5.1167,5.1167,5.1167,5.5027,5.5027,5.9604,5.9604,6.32,7.8278,7.8278,7.8278,5.4917,5.4917,5.4917,4.022,3.37,3.0992,3.1827,3.3175,3.1025,2.5194,2.6403,2.8339999999999996,3.2628,3.6023,3.945,3.9986,4.0317,3.5325,4.0019,4.5404,4.5404,4.7211,4.7211,4.7211,5.4159,5.4159,5.4159,5.2146,5.2146,5.8736,6.6407,6.6407,6.4584,6.4584,5.9853,5.2311,5.615,4.8122,4.8122,4.8122,7.0379,6.2669,5.7321,6.4654,8.0136,8.0136,8.5353,8.344,8.7921,8.7921,10.7103,10.7103,12.1265,10.5857,10.5857,2.1222,2.5052,2.7227,2.5091,2.5182,2.2955,2.1036,1.9047,1.9047,1.6132,1.7523,1.5106,1.3325,1.3567,1.2024,1.1691,1.1296,1.1742,1.137,1.3163,1.3449,1.358,1.3861,1.3861,1.4165,1.5192,1.5804,1.5331,1.4395,1.4261,1.4672,1.5184,1.5895,1.7281,1.9265,2.1678,1.77,1.7912,1.7821,1.7257,1.6768,1.6334,1.4896,1.5004,1.5888,1.5741,1.639,1.7028,1.6074,1.4254,1.1781,1.2852,1.4547,1.4655,1.413,1.5275,1.5539,1.5894,1.6582,1.8347,1.8195,1.6475,1.8026,1.794,1.8589,1.8746,1.9512,2.0218,2.0635,1.9096,1.9976,1.8629,1.9356,1.9682,2.0527,2.0882,2.2004,2.3158,2.2222,2.1247,2.0026,1.9142,1.8206,1.8172,1.8662,2.0651,2.0048,1.9784,1.8956,1.9879,2.072,2.198,2.2616,2.185,2.3236,2.3552,2.3682,2.4527,2.4961,2.4358,2.5806,2.7792,2.7831,2.7175,2.5975,2.5671,2.7344,2.8016,2.9634,3.0665,2.8715,2.5403,2.9084,2.8237,3.0334,3.0993,2.8965,2.5329,2.4298,2.206,2.3053,2.1007,2.1705,1.9512,3.4242,3.3317,3.4106,4.0983,3.7239999999999998,3.9917,3.5459,3.1523,1.8209,1.7554,1.8226,1.8681,2.1099,2.3817,2.3817,2.7986,2.7986,2.8927,2.4091,2.3999,2.4982,2.4786,2.2875,2.1675,2.3889,2.505],\"xaxis\":\"x\",\"y\":[24.0,21.6,34.7,33.4,36.2,28.7,22.9,27.1,16.5,18.9,15.0,18.9,21.7,20.4,18.2,19.9,23.1,17.5,20.2,18.2,13.6,19.6,15.2,14.5,15.6,13.9,16.6,14.8,18.4,21.0,12.7,14.5,13.2,13.1,13.5,18.9,20.0,21.0,24.7,30.8,34.9,26.6,25.3,24.7,21.2,19.3,20.0,16.6,14.4,19.4,19.7,20.5,25.0,23.4,18.9,35.4,24.7,31.6,23.3,19.6,18.7,16.0,22.2,25.0,33.0,23.5,19.4,22.0,17.4,20.9,24.2,21.7,22.8,23.4,24.1,21.4,20.0,20.8,21.2,20.3,28.0,23.9,24.8,22.9,23.9,26.6,22.5,22.2,23.6,28.7,22.6,22.0,22.9,25.0,20.6,28.4,21.4,38.7,43.8,33.2,27.5,26.5,18.6,19.3,20.1,19.5,19.5,20.4,19.8,19.4,21.7,22.8,18.8,18.7,18.5,18.3,21.2,19.2,20.4,19.3,22.0,20.3,20.5,17.3,18.8,21.4,15.7,16.2,18.0,14.3,19.2,19.6,23.0,18.4,15.6,18.1,17.4,17.1,13.3,17.8,14.0,14.4,13.4,15.6,11.8,13.8,15.6,14.6,17.8,15.4,21.5,19.6,15.3,19.4,17.0,15.6,13.1,41.3,24.3,23.3,27.0,50.0,50.0,50.0,22.7,25.0,50.0,23.8,23.8,22.3,17.4,19.1,23.1,23.6,22.6,29.4,23.2,24.6,29.9,37.2,39.8,36.2,37.9,32.5,26.4,29.6,50.0,32.0,29.8,34.9,37.0,30.5,36.4,31.1,29.1,50.0,33.3,30.3,34.6,34.9,32.9,24.1,42.3,48.5,50.0,22.6,24.4,22.5,24.4,20.0,21.7,19.3,22.4,28.1,23.7,25.0,23.3,28.7,21.5,23.0,26.7,21.7,27.5,30.1,44.8,50.0,37.6,31.6,46.7,31.5,24.3,31.7,41.7,48.3,29.0,24.0,25.1,31.5,23.7,23.3,22.0,20.1,22.2,23.7,17.6,18.5,24.3,20.5,24.5,26.2,24.4,24.8,29.6,42.8,21.9,20.9,44.0,50.0,36.0,30.1,33.8,43.1,48.8,31.0,36.5,22.8,30.7,50.0,43.5,20.7,21.1,25.2,24.4,35.2,32.4,32.0,33.2,33.1,29.1,35.1,45.4,35.4,46.0,50.0,32.2,22.0,20.1,23.2,22.3,24.8,28.5,37.3,27.9,23.9,21.7,28.6,27.1,20.3,22.5,29.0,24.8,22.0,26.4,33.1,36.1,28.4,33.4,28.2,22.8,20.3,16.1,22.1,19.4,21.6,23.8,16.2,17.8,19.8,23.1,21.0,23.8,23.1,20.4,18.5,25.0,24.6,23.0,22.2,19.3,22.6,19.8,17.1,19.4,22.2,20.7,21.1,19.5,18.5,20.6,19.0,18.7,32.7,16.5,23.9,31.2,17.5,17.2,23.1,24.5,26.6,22.9,24.1,18.6,30.1,18.2,20.6,17.8,21.7,22.7,22.6,25.0,19.9,20.8,16.8,21.9,27.5,21.9,23.1,50.0,50.0,50.0,50.0,50.0,13.8,13.8,15.0,13.9,13.3,13.1,10.2,10.4,10.9,11.3,12.3,8.8,7.2,10.5,7.4,10.2,11.5,15.1,23.2,9.7,13.8,12.7,13.1,12.5,8.5,5.0,6.3,5.6,7.2,12.1,8.3,8.5,5.0,11.9,27.9,17.2,27.5,15.0,17.2,17.9,16.3,7.0,7.2,7.5,10.4,8.8,8.4,16.7,14.2,20.8,13.4,11.7,8.3,10.2,10.9,11.0,9.5,14.5,14.1,16.1,14.3,11.7,13.4,9.6,8.7,8.4,12.8,10.5,17.1,18.4,15.4,10.8,11.8,14.9,12.6,14.1,13.0,13.4,15.2,16.1,17.8,14.9,14.1,12.7,13.5,14.9,20.0,16.4,17.7,19.5,20.2,21.4,19.9,19.0,19.1,19.1,20.1,19.9,19.6,23.2,29.8,13.8,13.3,16.7,12.0,14.6,21.4,23.0,23.7,25.0,21.8,20.6,21.2,19.1,20.6,15.2,7.0,8.1,13.6,20.1,21.8,24.5,23.1,19.7,18.3,21.2,17.5,16.8,22.4,20.6,23.9,22.0,11.9],\"yaxis\":\"y\"}],                        {\"coloraxis\":{\"colorbar\":{\"title\":{\"text\":\"AGE\"}},\"colorscale\":[[0.0,\"#0d0887\"],[0.1111111111111111,\"#46039f\"],[0.2222222222222222,\"#7201a8\"],[0.3333333333333333,\"#9c179e\"],[0.4444444444444444,\"#bd3786\"],[0.5555555555555556,\"#d8576b\"],[0.6666666666666666,\"#ed7953\"],[0.7777777777777778,\"#fb9f3a\"],[0.8888888888888888,\"#fdca26\"],[1.0,\"#f0f921\"]]},\"legend\":{\"tracegroupgap\":0},\"margin\":{\"t\":60},\"template\":{\"data\":{\"bar\":[{\"error_x\":{\"color\":\"#2a3f5f\"},\"error_y\":{\"color\":\"#2a3f5f\"},\"marker\":{\"line\":{\"color\":\"#E5ECF6\",\"width\":0.5},\"pattern\":{\"fillmode\":\"overlay\",\"size\":10,\"solidity\":0.2}},\"type\":\"bar\"}],\"barpolar\":[{\"marker\":{\"line\":{\"color\":\"#E5ECF6\",\"width\":0.5},\"pattern\":{\"fillmode\":\"overlay\",\"size\":10,\"solidity\":0.2}},\"type\":\"barpolar\"}],\"carpet\":[{\"aaxis\":{\"endlinecolor\":\"#2a3f5f\",\"gridcolor\":\"white\",\"linecolor\":\"white\",\"minorgridcolor\":\"white\",\"startlinecolor\":\"#2a3f5f\"},\"baxis\":{\"endlinecolor\":\"#2a3f5f\",\"gridcolor\":\"white\",\"linecolor\":\"white\",\"minorgridcolor\":\"white\",\"startlinecolor\":\"#2a3f5f\"},\"type\":\"carpet\"}],\"choropleth\":[{\"colorbar\":{\"outlinewidth\":0,\"ticks\":\"\"},\"type\":\"choropleth\"}],\"contour\":[{\"colorbar\":{\"outlinewidth\":0,\"ticks\":\"\"},\"colorscale\":[[0.0,\"#0d0887\"],[0.1111111111111111,\"#46039f\"],[0.2222222222222222,\"#7201a8\"],[0.3333333333333333,\"#9c179e\"],[0.4444444444444444,\"#bd3786\"],[0.5555555555555556,\"#d8576b\"],[0.6666666666666666,\"#ed7953\"],[0.7777777777777778,\"#fb9f3a\"],[0.8888888888888888,\"#fdca26\"],[1.0,\"#f0f921\"]],\"type\":\"contour\"}],\"contourcarpet\":[{\"colorbar\":{\"outlinewidth\":0,\"ticks\":\"\"},\"type\":\"contourcarpet\"}],\"heatmap\":[{\"colorbar\":{\"outlinewidth\":0,\"ticks\":\"\"},\"colorscale\":[[0.0,\"#0d0887\"],[0.1111111111111111,\"#46039f\"],[0.2222222222222222,\"#7201a8\"],[0.3333333333333333,\"#9c179e\"],[0.4444444444444444,\"#bd3786\"],[0.5555555555555556,\"#d8576b\"],[0.6666666666666666,\"#ed7953\"],[0.7777777777777778,\"#fb9f3a\"],[0.8888888888888888,\"#fdca26\"],[1.0,\"#f0f921\"]],\"type\":\"heatmap\"}],\"heatmapgl\":[{\"colorbar\":{\"outlinewidth\":0,\"ticks\":\"\"},\"colorscale\":[[0.0,\"#0d0887\"],[0.1111111111111111,\"#46039f\"],[0.2222222222222222,\"#7201a8\"],[0.3333333333333333,\"#9c179e\"],[0.4444444444444444,\"#bd3786\"],[0.5555555555555556,\"#d8576b\"],[0.6666666666666666,\"#ed7953\"],[0.7777777777777778,\"#fb9f3a\"],[0.8888888888888888,\"#fdca26\"],[1.0,\"#f0f921\"]],\"type\":\"heatmapgl\"}],\"histogram\":[{\"marker\":{\"pattern\":{\"fillmode\":\"overlay\",\"size\":10,\"solidity\":0.2}},\"type\":\"histogram\"}],\"histogram2d\":[{\"colorbar\":{\"outlinewidth\":0,\"ticks\":\"\"},\"colorscale\":[[0.0,\"#0d0887\"],[0.1111111111111111,\"#46039f\"],[0.2222222222222222,\"#7201a8\"],[0.3333333333333333,\"#9c179e\"],[0.4444444444444444,\"#bd3786\"],[0.5555555555555556,\"#d8576b\"],[0.6666666666666666,\"#ed7953\"],[0.7777777777777778,\"#fb9f3a\"],[0.8888888888888888,\"#fdca26\"],[1.0,\"#f0f921\"]],\"type\":\"histogram2d\"}],\"histogram2dcontour\":[{\"colorbar\":{\"outlinewidth\":0,\"ticks\":\"\"},\"colorscale\":[[0.0,\"#0d0887\"],[0.1111111111111111,\"#46039f\"],[0.2222222222222222,\"#7201a8\"],[0.3333333333333333,\"#9c179e\"],[0.4444444444444444,\"#bd3786\"],[0.5555555555555556,\"#d8576b\"],[0.6666666666666666,\"#ed7953\"],[0.7777777777777778,\"#fb9f3a\"],[0.8888888888888888,\"#fdca26\"],[1.0,\"#f0f921\"]],\"type\":\"histogram2dcontour\"}],\"mesh3d\":[{\"colorbar\":{\"outlinewidth\":0,\"ticks\":\"\"},\"type\":\"mesh3d\"}],\"parcoords\":[{\"line\":{\"colorbar\":{\"outlinewidth\":0,\"ticks\":\"\"}},\"type\":\"parcoords\"}],\"pie\":[{\"automargin\":true,\"type\":\"pie\"}],\"scatter\":[{\"marker\":{\"colorbar\":{\"outlinewidth\":0,\"ticks\":\"\"}},\"type\":\"scatter\"}],\"scatter3d\":[{\"line\":{\"colorbar\":{\"outlinewidth\":0,\"ticks\":\"\"}},\"marker\":{\"colorbar\":{\"outlinewidth\":0,\"ticks\":\"\"}},\"type\":\"scatter3d\"}],\"scattercarpet\":[{\"marker\":{\"colorbar\":{\"outlinewidth\":0,\"ticks\":\"\"}},\"type\":\"scattercarpet\"}],\"scattergeo\":[{\"marker\":{\"colorbar\":{\"outlinewidth\":0,\"ticks\":\"\"}},\"type\":\"scattergeo\"}],\"scattergl\":[{\"marker\":{\"colorbar\":{\"outlinewidth\":0,\"ticks\":\"\"}},\"type\":\"scattergl\"}],\"scattermapbox\":[{\"marker\":{\"colorbar\":{\"outlinewidth\":0,\"ticks\":\"\"}},\"type\":\"scattermapbox\"}],\"scatterpolar\":[{\"marker\":{\"colorbar\":{\"outlinewidth\":0,\"ticks\":\"\"}},\"type\":\"scatterpolar\"}],\"scatterpolargl\":[{\"marker\":{\"colorbar\":{\"outlinewidth\":0,\"ticks\":\"\"}},\"type\":\"scatterpolargl\"}],\"scatterternary\":[{\"marker\":{\"colorbar\":{\"outlinewidth\":0,\"ticks\":\"\"}},\"type\":\"scatterternary\"}],\"surface\":[{\"colorbar\":{\"outlinewidth\":0,\"ticks\":\"\"},\"colorscale\":[[0.0,\"#0d0887\"],[0.1111111111111111,\"#46039f\"],[0.2222222222222222,\"#7201a8\"],[0.3333333333333333,\"#9c179e\"],[0.4444444444444444,\"#bd3786\"],[0.5555555555555556,\"#d8576b\"],[0.6666666666666666,\"#ed7953\"],[0.7777777777777778,\"#fb9f3a\"],[0.8888888888888888,\"#fdca26\"],[1.0,\"#f0f921\"]],\"type\":\"surface\"}],\"table\":[{\"cells\":{\"fill\":{\"color\":\"#EBF0F8\"},\"line\":{\"color\":\"white\"}},\"header\":{\"fill\":{\"color\":\"#C8D4E3\"},\"line\":{\"color\":\"white\"}},\"type\":\"table\"}]},\"layout\":{\"annotationdefaults\":{\"arrowcolor\":\"#2a3f5f\",\"arrowhead\":0,\"arrowwidth\":1},\"autotypenumbers\":\"strict\",\"coloraxis\":{\"colorbar\":{\"outlinewidth\":0,\"ticks\":\"\"}},\"colorscale\":{\"diverging\":[[0,\"#8e0152\"],[0.1,\"#c51b7d\"],[0.2,\"#de77ae\"],[0.3,\"#f1b6da\"],[0.4,\"#fde0ef\"],[0.5,\"#f7f7f7\"],[0.6,\"#e6f5d0\"],[0.7,\"#b8e186\"],[0.8,\"#7fbc41\"],[0.9,\"#4d9221\"],[1,\"#276419\"]],\"sequential\":[[0.0,\"#0d0887\"],[0.1111111111111111,\"#46039f\"],[0.2222222222222222,\"#7201a8\"],[0.3333333333333333,\"#9c179e\"],[0.4444444444444444,\"#bd3786\"],[0.5555555555555556,\"#d8576b\"],[0.6666666666666666,\"#ed7953\"],[0.7777777777777778,\"#fb9f3a\"],[0.8888888888888888,\"#fdca26\"],[1.0,\"#f0f921\"]],\"sequentialminus\":[[0.0,\"#0d0887\"],[0.1111111111111111,\"#46039f\"],[0.2222222222222222,\"#7201a8\"],[0.3333333333333333,\"#9c179e\"],[0.4444444444444444,\"#bd3786\"],[0.5555555555555556,\"#d8576b\"],[0.6666666666666666,\"#ed7953\"],[0.7777777777777778,\"#fb9f3a\"],[0.8888888888888888,\"#fdca26\"],[1.0,\"#f0f921\"]]},\"colorway\":[\"#636efa\",\"#EF553B\",\"#00cc96\",\"#ab63fa\",\"#FFA15A\",\"#19d3f3\",\"#FF6692\",\"#B6E880\",\"#FF97FF\",\"#FECB52\"],\"font\":{\"color\":\"#2a3f5f\"},\"geo\":{\"bgcolor\":\"white\",\"lakecolor\":\"white\",\"landcolor\":\"#E5ECF6\",\"showlakes\":true,\"showland\":true,\"subunitcolor\":\"white\"},\"hoverlabel\":{\"align\":\"left\"},\"hovermode\":\"closest\",\"mapbox\":{\"style\":\"light\"},\"paper_bgcolor\":\"white\",\"plot_bgcolor\":\"#E5ECF6\",\"polar\":{\"angularaxis\":{\"gridcolor\":\"white\",\"linecolor\":\"white\",\"ticks\":\"\"},\"bgcolor\":\"#E5ECF6\",\"radialaxis\":{\"gridcolor\":\"white\",\"linecolor\":\"white\",\"ticks\":\"\"}},\"scene\":{\"xaxis\":{\"backgroundcolor\":\"#E5ECF6\",\"gridcolor\":\"white\",\"gridwidth\":2,\"linecolor\":\"white\",\"showbackground\":true,\"ticks\":\"\",\"zerolinecolor\":\"white\"},\"yaxis\":{\"backgroundcolor\":\"#E5ECF6\",\"gridcolor\":\"white\",\"gridwidth\":2,\"linecolor\":\"white\",\"showbackground\":true,\"ticks\":\"\",\"zerolinecolor\":\"white\"},\"zaxis\":{\"backgroundcolor\":\"#E5ECF6\",\"gridcolor\":\"white\",\"gridwidth\":2,\"linecolor\":\"white\",\"showbackground\":true,\"ticks\":\"\",\"zerolinecolor\":\"white\"}},\"shapedefaults\":{\"line\":{\"color\":\"#2a3f5f\"}},\"ternary\":{\"aaxis\":{\"gridcolor\":\"white\",\"linecolor\":\"white\",\"ticks\":\"\"},\"baxis\":{\"gridcolor\":\"white\",\"linecolor\":\"white\",\"ticks\":\"\"},\"bgcolor\":\"#E5ECF6\",\"caxis\":{\"gridcolor\":\"white\",\"linecolor\":\"white\",\"ticks\":\"\"}},\"title\":{\"x\":0.05},\"xaxis\":{\"automargin\":true,\"gridcolor\":\"white\",\"linecolor\":\"white\",\"ticks\":\"\",\"title\":{\"standoff\":15},\"zerolinecolor\":\"white\",\"zerolinewidth\":2},\"yaxis\":{\"automargin\":true,\"gridcolor\":\"white\",\"linecolor\":\"white\",\"ticks\":\"\",\"title\":{\"standoff\":15},\"zerolinecolor\":\"white\",\"zerolinewidth\":2}}},\"xaxis\":{\"anchor\":\"y\",\"domain\":[0.0,1.0],\"title\":{\"text\":\"DIS\"}},\"yaxis\":{\"anchor\":\"x\",\"domain\":[0.0,1.0],\"title\":{\"text\":\"MEDV\"}}},                        {\"responsive\": true}                    ).then(function(){\n",
       "                            \n",
       "var gd = document.getElementById('0cbb6f0b-b18f-4d59-9681-50671099ca07');\n",
       "var x = new MutationObserver(function (mutations, observer) {{\n",
       "        var display = window.getComputedStyle(gd).display;\n",
       "        if (!display || display === 'none') {{\n",
       "            console.log([gd, 'removed!']);\n",
       "            Plotly.purge(gd);\n",
       "            observer.disconnect();\n",
       "        }}\n",
       "}});\n",
       "\n",
       "// Listen for the removal of the full notebook cells\n",
       "var notebookContainer = gd.closest('#notebook-container');\n",
       "if (notebookContainer) {{\n",
       "    x.observe(notebookContainer, {childList: true});\n",
       "}}\n",
       "\n",
       "// Listen for the clearing of the current output cell\n",
       "var outputEl = gd.closest('.output');\n",
       "if (outputEl) {{\n",
       "    x.observe(outputEl, {childList: true});\n",
       "}}\n",
       "\n",
       "                        })                };                });            </script>        </div>"
      ]
     },
     "metadata": {},
     "output_type": "display_data"
    }
   ],
   "source": [
    "fig.show()"
   ]
  },
  {
   "cell_type": "code",
   "execution_count": 66,
   "metadata": {},
   "outputs": [],
   "source": [
    "fig = px.scatter(df1, x= 'AGE', y= 'MEDV',trendline=\"ols\")"
   ]
  },
  {
   "cell_type": "code",
   "execution_count": 67,
   "metadata": {},
   "outputs": [
    {
     "data": {
      "application/vnd.plotly.v1+json": {
       "config": {
        "plotlyServerURL": "https://plot.ly"
       },
       "data": [
        {
         "hovertemplate": "AGE=%{x}<br>MEDV=%{y}<extra></extra>",
         "legendgroup": "",
         "marker": {
          "color": "#636efa",
          "symbol": "circle"
         },
         "mode": "markers",
         "name": "",
         "orientation": "v",
         "showlegend": false,
         "type": "scatter",
         "x": [
          65.2,
          78.9,
          61.1,
          45.8,
          54.2,
          58.7,
          66.6,
          96.1,
          100,
          85.9,
          94.3,
          82.9,
          39,
          61.8,
          84.5,
          56.5,
          29.3,
          81.7,
          36.6,
          69.5,
          98.1,
          89.2,
          91.7,
          100,
          94.1,
          85.7,
          90.3,
          88.8,
          94.4,
          87.3,
          94.1,
          100,
          82,
          95,
          96.9,
          68.2,
          61.4,
          41.5,
          30.2,
          21.8,
          15.8,
          2.9,
          6.6,
          6.5,
          40,
          33.8,
          33.3,
          85.5,
          95.3,
          62,
          45.7,
          63,
          21.1,
          21.4,
          47.6,
          21.9,
          35.7,
          40.5,
          29.2,
          47.2,
          66.2,
          93.4,
          67.8,
          43.4,
          59.5,
          17.8,
          31.1,
          21.4,
          36.8,
          33,
          6.6,
          17.5,
          7.8,
          6.2,
          68.51851851851852,
          45,
          74.5,
          45.8,
          53.7,
          36.6,
          33.5,
          70.4,
          32.2,
          46.7,
          48,
          56.1,
          45.1,
          56.8,
          86.3,
          63.1,
          66.1,
          73.9,
          53.6,
          28.9,
          77.3,
          57.8,
          69.6,
          76,
          36.9,
          62.5,
          79.9,
          71.3,
          85.4,
          68.51851851851852,
          90,
          96.7,
          91.9,
          85.2,
          97.1,
          91.2,
          54.4,
          81.6,
          92.9,
          95.4,
          84.2,
          88.2,
          72.5,
          82.6,
          73.1,
          65.2,
          69.7,
          84.1,
          92.9,
          97,
          95.8,
          88.4,
          68.51851851851852,
          96,
          98.8,
          94.7,
          98.9,
          97.7,
          97.9,
          95.4,
          98.4,
          98.2,
          93.5,
          98.4,
          68.51851851851852,
          97.9,
          93.6,
          100,
          100,
          100,
          97.8,
          100,
          100,
          95.7,
          93.8,
          94.9,
          68.51851851851852,
          100,
          88,
          98.5,
          96,
          68.51851851851852,
          94,
          97.4,
          100,
          100,
          92.6,
          90.8,
          98.2,
          68.51851851851852,
          91.8,
          93,
          96.2,
          79.2,
          96.1,
          95.2,
          94.6,
          97.3,
          88.5,
          68.51851851851852,
          68.7,
          33.1,
          47.2,
          73.4,
          74.4,
          58.4,
          83.3,
          62.2,
          92.2,
          95.6,
          89.8,
          68.8,
          53.6,
          41.1,
          29.1,
          38.9,
          21.5,
          30.8,
          26.3,
          68.51851851851852,
          18.8,
          32,
          34.1,
          36.6,
          38.3,
          15.3,
          13.9,
          38.4,
          15.7,
          33.2,
          31.9,
          22.3,
          52.5,
          72.7,
          59.1,
          100,
          92.1,
          88.6,
          53.8,
          32.3,
          9.8,
          68.51851851851852,
          56,
          85.1,
          93.8,
          92.4,
          88.5,
          91.3,
          77.7,
          80.8,
          78.3,
          83,
          86.5,
          79.9,
          17,
          21.4,
          68.1,
          76.9,
          73.3,
          68.51851851851852,
          66.5,
          61.5,
          76.5,
          71.6,
          18.5,
          42.2,
          54.3,
          65.1,
          52.9,
          7.8,
          76.5,
          70.2,
          34.9,
          79.2,
          49.1,
          17.5,
          13,
          8.9,
          6.8,
          8.4,
          32,
          19.1,
          34.2,
          86.9,
          100,
          100,
          81.8,
          89.4,
          91.5,
          94.5,
          91.6,
          62.8,
          84.6,
          67,
          52.6,
          61.5,
          42.1,
          16.3,
          58.7,
          51.8,
          32.9,
          42.8,
          49,
          27.6,
          32.1,
          32.2,
          64.5,
          68.51851851851852,
          49.7,
          24.8,
          20.8,
          31.9,
          68.51851851851852,
          31.3,
          45.6,
          22.9,
          27.9,
          27.7,
          23.4,
          18.4,
          42.3,
          31.1,
          51,
          58,
          20.1,
          10,
          47.4,
          40.4,
          18.4,
          17.7,
          41.1,
          58.1,
          71.9,
          70.3,
          82.5,
          76.7,
          37.8,
          52.8,
          90.4,
          82.8,
          87.3,
          77.7,
          68.51851851851852,
          71.7,
          67.2,
          58.8,
          52.3,
          54.3,
          49.9,
          74.3,
          40.1,
          14.7,
          28.9,
          43.7,
          25.8,
          17.2,
          32.2,
          28.4,
          23.3,
          38.1,
          38.5,
          34.5,
          46.3,
          59.6,
          37.3,
          45.4,
          58.5,
          49.3,
          59.7,
          56.4,
          28.1,
          48.5,
          52.3,
          27.7,
          29.7,
          34.5,
          44.4,
          35.9,
          18.5,
          36.1,
          21.9,
          68.51851851851852,
          97.4,
          91,
          83.4,
          81.3,
          88,
          91.1,
          96.2,
          89,
          82.9,
          87.9,
          91.4,
          100,
          68.51851851851852,
          96.8,
          97.5,
          100,
          89.6,
          100,
          100,
          97.9,
          93.3,
          98.8,
          96.2,
          100,
          91.9,
          99.1,
          100,
          100,
          91.2,
          98.1,
          100,
          89.5,
          100,
          98.9,
          97,
          82.5,
          97,
          92.6,
          94.7,
          98.8,
          96,
          98.9,
          100,
          77.8,
          100,
          100,
          100,
          96,
          85.4,
          100,
          100,
          100,
          97.9,
          100,
          100,
          100,
          100,
          100,
          100,
          100,
          90.8,
          89.1,
          100,
          76.5,
          100,
          95.3,
          87.6,
          68.51851851851852,
          70.6,
          95.4,
          59.7,
          78.7,
          78.1,
          68.51851851851852,
          86.1,
          94.3,
          74.8,
          87.9,
          95,
          94.6,
          93.3,
          100,
          87.9,
          93.9,
          92.4,
          97.2,
          100,
          100,
          96.6,
          94.8,
          96.4,
          96.6,
          98.7,
          98.3,
          92.6,
          68.51851851851852,
          91.8,
          99.3,
          94.1,
          86.5,
          87.9,
          80.3,
          83.7,
          84.4,
          90,
          88.4,
          83,
          89.9,
          65.4,
          48.2,
          84.7,
          94.5,
          71,
          56.7,
          84,
          90.7,
          75,
          67.6,
          95.4,
          97.4,
          93.6,
          97.3,
          96.7,
          88,
          64.7,
          74.9,
          77,
          40.3,
          41.9,
          51.9,
          79.8,
          53.2,
          92.7,
          98.3,
          98,
          98.8,
          83.5,
          54,
          42.6,
          28.8,
          72.9,
          70.6,
          65.3,
          73.5,
          79.7,
          69.1,
          76.7,
          91,
          89.3,
          68.51851851851852
         ],
         "xaxis": "x",
         "y": [
          24,
          21.6,
          34.7,
          33.4,
          36.2,
          28.7,
          22.9,
          27.1,
          16.5,
          18.9,
          15,
          18.9,
          21.7,
          20.4,
          18.2,
          19.9,
          23.1,
          17.5,
          20.2,
          18.2,
          13.6,
          19.6,
          15.2,
          14.5,
          15.6,
          13.9,
          16.6,
          14.8,
          18.4,
          21,
          12.7,
          14.5,
          13.2,
          13.1,
          13.5,
          18.9,
          20,
          21,
          24.7,
          30.8,
          34.9,
          26.6,
          25.3,
          24.7,
          21.2,
          19.3,
          20,
          16.6,
          14.4,
          19.4,
          19.7,
          20.5,
          25,
          23.4,
          18.9,
          35.4,
          24.7,
          31.6,
          23.3,
          19.6,
          18.7,
          16,
          22.2,
          25,
          33,
          23.5,
          19.4,
          22,
          17.4,
          20.9,
          24.2,
          21.7,
          22.8,
          23.4,
          24.1,
          21.4,
          20,
          20.8,
          21.2,
          20.3,
          28,
          23.9,
          24.8,
          22.9,
          23.9,
          26.6,
          22.5,
          22.2,
          23.6,
          28.7,
          22.6,
          22,
          22.9,
          25,
          20.6,
          28.4,
          21.4,
          38.7,
          43.8,
          33.2,
          27.5,
          26.5,
          18.6,
          19.3,
          20.1,
          19.5,
          19.5,
          20.4,
          19.8,
          19.4,
          21.7,
          22.8,
          18.8,
          18.7,
          18.5,
          18.3,
          21.2,
          19.2,
          20.4,
          19.3,
          22,
          20.3,
          20.5,
          17.3,
          18.8,
          21.4,
          15.7,
          16.2,
          18,
          14.3,
          19.2,
          19.6,
          23,
          18.4,
          15.6,
          18.1,
          17.4,
          17.1,
          13.3,
          17.8,
          14,
          14.4,
          13.4,
          15.6,
          11.8,
          13.8,
          15.6,
          14.6,
          17.8,
          15.4,
          21.5,
          19.6,
          15.3,
          19.4,
          17,
          15.6,
          13.1,
          41.3,
          24.3,
          23.3,
          27,
          50,
          50,
          50,
          22.7,
          25,
          50,
          23.8,
          23.8,
          22.3,
          17.4,
          19.1,
          23.1,
          23.6,
          22.6,
          29.4,
          23.2,
          24.6,
          29.9,
          37.2,
          39.8,
          36.2,
          37.9,
          32.5,
          26.4,
          29.6,
          50,
          32,
          29.8,
          34.9,
          37,
          30.5,
          36.4,
          31.1,
          29.1,
          50,
          33.3,
          30.3,
          34.6,
          34.9,
          32.9,
          24.1,
          42.3,
          48.5,
          50,
          22.6,
          24.4,
          22.5,
          24.4,
          20,
          21.7,
          19.3,
          22.4,
          28.1,
          23.7,
          25,
          23.3,
          28.7,
          21.5,
          23,
          26.7,
          21.7,
          27.5,
          30.1,
          44.8,
          50,
          37.6,
          31.6,
          46.7,
          31.5,
          24.3,
          31.7,
          41.7,
          48.3,
          29,
          24,
          25.1,
          31.5,
          23.7,
          23.3,
          22,
          20.1,
          22.2,
          23.7,
          17.6,
          18.5,
          24.3,
          20.5,
          24.5,
          26.2,
          24.4,
          24.8,
          29.6,
          42.8,
          21.9,
          20.9,
          44,
          50,
          36,
          30.1,
          33.8,
          43.1,
          48.8,
          31,
          36.5,
          22.8,
          30.7,
          50,
          43.5,
          20.7,
          21.1,
          25.2,
          24.4,
          35.2,
          32.4,
          32,
          33.2,
          33.1,
          29.1,
          35.1,
          45.4,
          35.4,
          46,
          50,
          32.2,
          22,
          20.1,
          23.2,
          22.3,
          24.8,
          28.5,
          37.3,
          27.9,
          23.9,
          21.7,
          28.6,
          27.1,
          20.3,
          22.5,
          29,
          24.8,
          22,
          26.4,
          33.1,
          36.1,
          28.4,
          33.4,
          28.2,
          22.8,
          20.3,
          16.1,
          22.1,
          19.4,
          21.6,
          23.8,
          16.2,
          17.8,
          19.8,
          23.1,
          21,
          23.8,
          23.1,
          20.4,
          18.5,
          25,
          24.6,
          23,
          22.2,
          19.3,
          22.6,
          19.8,
          17.1,
          19.4,
          22.2,
          20.7,
          21.1,
          19.5,
          18.5,
          20.6,
          19,
          18.7,
          32.7,
          16.5,
          23.9,
          31.2,
          17.5,
          17.2,
          23.1,
          24.5,
          26.6,
          22.9,
          24.1,
          18.6,
          30.1,
          18.2,
          20.6,
          17.8,
          21.7,
          22.7,
          22.6,
          25,
          19.9,
          20.8,
          16.8,
          21.9,
          27.5,
          21.9,
          23.1,
          50,
          50,
          50,
          50,
          50,
          13.8,
          13.8,
          15,
          13.9,
          13.3,
          13.1,
          10.2,
          10.4,
          10.9,
          11.3,
          12.3,
          8.8,
          7.2,
          10.5,
          7.4,
          10.2,
          11.5,
          15.1,
          23.2,
          9.7,
          13.8,
          12.7,
          13.1,
          12.5,
          8.5,
          5,
          6.3,
          5.6,
          7.2,
          12.1,
          8.3,
          8.5,
          5,
          11.9,
          27.9,
          17.2,
          27.5,
          15,
          17.2,
          17.9,
          16.3,
          7,
          7.2,
          7.5,
          10.4,
          8.8,
          8.4,
          16.7,
          14.2,
          20.8,
          13.4,
          11.7,
          8.3,
          10.2,
          10.9,
          11,
          9.5,
          14.5,
          14.1,
          16.1,
          14.3,
          11.7,
          13.4,
          9.6,
          8.7,
          8.4,
          12.8,
          10.5,
          17.1,
          18.4,
          15.4,
          10.8,
          11.8,
          14.9,
          12.6,
          14.1,
          13,
          13.4,
          15.2,
          16.1,
          17.8,
          14.9,
          14.1,
          12.7,
          13.5,
          14.9,
          20,
          16.4,
          17.7,
          19.5,
          20.2,
          21.4,
          19.9,
          19,
          19.1,
          19.1,
          20.1,
          19.9,
          19.6,
          23.2,
          29.8,
          13.8,
          13.3,
          16.7,
          12,
          14.6,
          21.4,
          23,
          23.7,
          25,
          21.8,
          20.6,
          21.2,
          19.1,
          20.6,
          15.2,
          7,
          8.1,
          13.6,
          20.1,
          21.8,
          24.5,
          23.1,
          19.7,
          18.3,
          21.2,
          17.5,
          16.8,
          22.4,
          20.6,
          23.9,
          22,
          11.9
         ],
         "yaxis": "y"
        },
        {
         "hovertemplate": "<b>OLS trendline</b><br>MEDV = -0.127443 * AGE + 31.265<br>R<sup>2</sup>=0.144570<br><br>AGE=%{x}<br>MEDV=%{y} <b>(trend)</b><extra></extra>",
         "legendgroup": "",
         "marker": {
          "color": "#636efa",
          "symbol": "circle"
         },
         "mode": "lines",
         "name": "",
         "showlegend": false,
         "type": "scatter",
         "x": [
          2.9,
          6.2,
          6.5,
          6.6,
          6.6,
          6.8,
          7.8,
          7.8,
          8.4,
          8.9,
          9.8,
          10,
          13,
          13.9,
          14.7,
          15.3,
          15.7,
          15.8,
          16.3,
          17,
          17.2,
          17.5,
          17.5,
          17.7,
          17.8,
          18.4,
          18.4,
          18.5,
          18.5,
          18.8,
          19.1,
          20.1,
          20.8,
          21.1,
          21.4,
          21.4,
          21.4,
          21.5,
          21.8,
          21.9,
          21.9,
          22.3,
          22.9,
          23.3,
          23.4,
          24.8,
          25.8,
          26.3,
          27.6,
          27.7,
          27.7,
          27.9,
          28.1,
          28.4,
          28.8,
          28.9,
          28.9,
          29.1,
          29.2,
          29.3,
          29.7,
          30.2,
          30.8,
          31.1,
          31.1,
          31.3,
          31.9,
          31.9,
          32,
          32,
          32.1,
          32.2,
          32.2,
          32.2,
          32.3,
          32.9,
          33,
          33.1,
          33.2,
          33.3,
          33.5,
          33.8,
          34.1,
          34.2,
          34.5,
          34.5,
          34.9,
          35.7,
          35.9,
          36.1,
          36.6,
          36.6,
          36.6,
          36.8,
          36.9,
          37.3,
          37.8,
          38.1,
          38.3,
          38.4,
          38.5,
          38.9,
          39,
          40,
          40.1,
          40.3,
          40.4,
          40.5,
          41.1,
          41.1,
          41.5,
          41.9,
          42.1,
          42.2,
          42.3,
          42.6,
          42.8,
          43.4,
          43.7,
          44.4,
          45,
          45.1,
          45.4,
          45.6,
          45.7,
          45.8,
          45.8,
          46.3,
          46.7,
          47.2,
          47.2,
          47.4,
          47.6,
          48,
          48.2,
          48.5,
          49,
          49.1,
          49.3,
          49.7,
          49.9,
          51,
          51.8,
          51.9,
          52.3,
          52.3,
          52.5,
          52.6,
          52.8,
          52.9,
          53.2,
          53.6,
          53.6,
          53.7,
          53.8,
          54,
          54.2,
          54.3,
          54.3,
          54.4,
          56,
          56.1,
          56.4,
          56.5,
          56.7,
          56.8,
          57.8,
          58,
          58.1,
          58.4,
          58.5,
          58.7,
          58.7,
          58.8,
          59.1,
          59.5,
          59.6,
          59.7,
          59.7,
          61.1,
          61.4,
          61.5,
          61.5,
          61.8,
          62,
          62.2,
          62.5,
          62.8,
          63,
          63.1,
          64.5,
          64.7,
          65.1,
          65.2,
          65.2,
          65.3,
          65.4,
          66.1,
          66.2,
          66.5,
          66.6,
          67,
          67.2,
          67.6,
          67.8,
          68.1,
          68.2,
          68.51851851851852,
          68.51851851851852,
          68.51851851851852,
          68.51851851851852,
          68.51851851851852,
          68.51851851851852,
          68.51851851851852,
          68.51851851851852,
          68.51851851851852,
          68.51851851851852,
          68.51851851851852,
          68.51851851851852,
          68.51851851851852,
          68.51851851851852,
          68.51851851851852,
          68.51851851851852,
          68.51851851851852,
          68.51851851851852,
          68.51851851851852,
          68.51851851851852,
          68.7,
          68.8,
          69.1,
          69.5,
          69.6,
          69.7,
          70.2,
          70.3,
          70.4,
          70.6,
          70.6,
          71,
          71.3,
          71.6,
          71.7,
          71.9,
          72.5,
          72.7,
          72.9,
          73.1,
          73.3,
          73.4,
          73.5,
          73.9,
          74.3,
          74.4,
          74.5,
          74.8,
          74.9,
          75,
          76,
          76.5,
          76.5,
          76.5,
          76.7,
          76.7,
          76.9,
          77,
          77.3,
          77.7,
          77.7,
          77.8,
          78.1,
          78.3,
          78.7,
          78.9,
          79.2,
          79.2,
          79.7,
          79.8,
          79.9,
          79.9,
          80.3,
          80.8,
          81.3,
          81.6,
          81.7,
          81.8,
          82,
          82.5,
          82.5,
          82.6,
          82.8,
          82.9,
          82.9,
          83,
          83,
          83.3,
          83.4,
          83.5,
          83.7,
          84,
          84.1,
          84.2,
          84.4,
          84.5,
          84.6,
          84.7,
          85.1,
          85.2,
          85.4,
          85.4,
          85.5,
          85.7,
          85.9,
          86.1,
          86.3,
          86.5,
          86.5,
          86.9,
          87.3,
          87.3,
          87.6,
          87.9,
          87.9,
          87.9,
          87.9,
          88,
          88,
          88,
          88.2,
          88.4,
          88.4,
          88.5,
          88.5,
          88.6,
          88.8,
          89,
          89.1,
          89.2,
          89.3,
          89.4,
          89.5,
          89.6,
          89.8,
          89.9,
          90,
          90,
          90.3,
          90.4,
          90.7,
          90.8,
          90.8,
          91,
          91,
          91.1,
          91.2,
          91.2,
          91.3,
          91.4,
          91.5,
          91.6,
          91.7,
          91.8,
          91.8,
          91.9,
          91.9,
          92.1,
          92.2,
          92.4,
          92.4,
          92.6,
          92.6,
          92.6,
          92.7,
          92.9,
          92.9,
          93,
          93.3,
          93.3,
          93.4,
          93.5,
          93.6,
          93.6,
          93.8,
          93.8,
          93.9,
          94,
          94.1,
          94.1,
          94.1,
          94.3,
          94.3,
          94.4,
          94.5,
          94.5,
          94.6,
          94.6,
          94.7,
          94.7,
          94.8,
          94.9,
          95,
          95,
          95.2,
          95.3,
          95.3,
          95.4,
          95.4,
          95.4,
          95.4,
          95.6,
          95.7,
          95.8,
          96,
          96,
          96,
          96,
          96.1,
          96.1,
          96.2,
          96.2,
          96.2,
          96.4,
          96.6,
          96.6,
          96.7,
          96.7,
          96.8,
          96.9,
          97,
          97,
          97,
          97.1,
          97.2,
          97.3,
          97.3,
          97.4,
          97.4,
          97.4,
          97.5,
          97.7,
          97.8,
          97.9,
          97.9,
          97.9,
          97.9,
          98,
          98.1,
          98.1,
          98.2,
          98.2,
          98.3,
          98.3,
          98.4,
          98.4,
          98.5,
          98.7,
          98.8,
          98.8,
          98.8,
          98.8,
          98.9,
          98.9,
          98.9,
          99.1,
          99.3,
          100,
          100,
          100,
          100,
          100,
          100,
          100,
          100,
          100,
          100,
          100,
          100,
          100,
          100,
          100,
          100,
          100,
          100,
          100,
          100,
          100,
          100,
          100,
          100,
          100,
          100,
          100,
          100,
          100,
          100,
          100,
          100,
          100,
          100,
          100,
          100,
          100,
          100,
          100,
          100,
          100,
          100
         ],
         "xaxis": "x",
         "y": [
          30.895395296352056,
          30.474834999785646,
          30.436602245552336,
          30.423857994141233,
          30.423857994141233,
          30.398369491319027,
          30.270926977207996,
          30.270926977207996,
          30.194461468741373,
          30.130740211685858,
          30.01604194898593,
          29.990553446163723,
          29.608225903830622,
          29.493527641130694,
          29.391573629841865,
          29.315108121375246,
          29.264131115730834,
          29.25138686431973,
          29.187665607264215,
          29.09845584738649,
          29.072967344564283,
          29.034734590330974,
          29.034734590330974,
          29.009246087508767,
          28.996501836097664,
          28.920036327631045,
          28.920036327631045,
          28.907292076219942,
          28.907292076219942,
          28.869059321986633,
          28.83082656775332,
          28.70338405364229,
          28.614174293764567,
          28.575941539531257,
          28.537708785297944,
          28.537708785297944,
          28.537708785297944,
          28.52496453388684,
          28.48673177965353,
          28.47398752824243,
          28.47398752824243,
          28.423010522598016,
          28.346545014131397,
          28.295568008486985,
          28.28282375707588,
          28.104404237320434,
          27.9769617232094,
          27.913240466153884,
          27.747565197809543,
          27.73482094639844,
          27.73482094639844,
          27.709332443576233,
          27.683843940754024,
          27.645611186520714,
          27.5946341808763,
          27.5818899294652,
          27.5818899294652,
          27.556401426642992,
          27.54365717523189,
          27.530912923820786,
          27.479935918176373,
          27.416214661120858,
          27.339749152654235,
          27.301516398420926,
          27.301516398420926,
          27.27602789559872,
          27.1995623871321,
          27.1995623871321,
          27.186818135720998,
          27.186818135720998,
          27.174073884309895,
          27.16132963289879,
          27.16132963289879,
          27.16132963289879,
          27.14858538148769,
          27.072119873021066,
          27.059375621609963,
          27.04663137019886,
          27.033887118787757,
          27.021142867376653,
          26.995654364554447,
          26.957421610321138,
          26.91918885608783,
          26.906444604676725,
          26.868211850443416,
          26.868211850443416,
          26.817234844799003,
          26.715280833510175,
          26.68979233068797,
          26.664303827865762,
          26.600582570810246,
          26.600582570810246,
          26.600582570810246,
          26.57509406798804,
          26.562349816576933,
          26.51137281093252,
          26.447651553877005,
          26.409418799643696,
          26.38393029682149,
          26.371186045410386,
          26.358441793999283,
          26.30746478835487,
          26.294720536943768,
          26.167278022832733,
          26.15453377142163,
          26.129045268599423,
          26.11630101718832,
          26.103556765777217,
          26.027091257310598,
          26.027091257310598,
          25.976114251666182,
          25.92513724602177,
          25.899648743199563,
          25.88690449178846,
          25.874160240377357,
          25.835927486144048,
          25.81043898332184,
          25.733973474855222,
          25.695740720621913,
          25.606530960744188,
          25.53006545227757,
          25.517321200866466,
          25.479088446633156,
          25.45359994381095,
          25.440855692399843,
          25.428111440988744,
          25.428111440988744,
          25.364390183933224,
          25.313413178288812,
          25.249691921233296,
          25.249691921233296,
          25.22420341841109,
          25.198714915588884,
          25.147737909944468,
          25.12224940712226,
          25.084016652888955,
          25.020295395833436,
          25.007551144422333,
          24.982062641600127,
          24.931085635955714,
          24.905597133133508,
          24.76541036761137,
          24.663456356322545,
          24.65071210491144,
          24.59973509926703,
          24.59973509926703,
          24.574246596444823,
          24.561502345033716,
          24.53601384221151,
          24.52326959080041,
          24.485036836567097,
          24.434059830922685,
          24.434059830922685,
          24.42131557951158,
          24.40857132810048,
          24.383082825278272,
          24.357594322456066,
          24.344850071044963,
          24.344850071044963,
          24.33210581963386,
          24.128197797056206,
          24.115453545645103,
          24.077220791411793,
          24.06447654000069,
          24.038988037178484,
          24.02624378576738,
          23.898801271656346,
          23.87331276883414,
          23.860568517423037,
          23.822335763189727,
          23.809591511778624,
          23.784103008956418,
          23.784103008956418,
          23.771358757545315,
          23.733126003312005,
          23.68214899766759,
          23.66940474625649,
          23.656660494845383,
          23.656660494845383,
          23.47824097508994,
          23.44000822085663,
          23.427263969445526,
          23.427263969445526,
          23.389031215212214,
          23.363542712390007,
          23.3380542095678,
          23.29982145533449,
          23.261588701101182,
          23.236100198278976,
          23.223355946867873,
          23.044936427112425,
          23.01944792429022,
          22.968470918645806,
          22.955726667234703,
          22.955726667234703,
          22.9429824158236,
          22.930238164412494,
          22.841028404534775,
          22.82828415312367,
          22.790051398890363,
          22.777307147479256,
          22.726330141834843,
          22.700841639012637,
          22.649864633368225,
          22.62437613054602,
          22.58614337631271,
          22.573399124901606,
          22.53280632411068,
          22.53280632411068,
          22.53280632411068,
          22.53280632411068,
          22.53280632411068,
          22.53280632411068,
          22.53280632411068,
          22.53280632411068,
          22.53280632411068,
          22.53280632411068,
          22.53280632411068,
          22.53280632411068,
          22.53280632411068,
          22.53280632411068,
          22.53280632411068,
          22.53280632411068,
          22.53280632411068,
          22.53280632411068,
          22.53280632411068,
          22.53280632411068,
          22.509677867846086,
          22.496933616434987,
          22.458700862201674,
          22.40772385655726,
          22.39497960514616,
          22.382235353735055,
          22.318514096679536,
          22.305769845268436,
          22.29302559385733,
          22.267537091035127,
          22.267537091035127,
          22.21656008539071,
          22.178327331157405,
          22.140094576924092,
          22.12735032551299,
          22.101861822690783,
          22.02539631422416,
          21.999907811401954,
          21.974419308579748,
          21.94893080575754,
          21.923442302935335,
          21.910698051524232,
          21.89795380011313,
          21.846976794468716,
          21.795999788824304,
          21.783255537413197,
          21.770511286002098,
          21.732278531768788,
          21.719534280357685,
          21.70679002894658,
          21.579347514835547,
          21.51562625778003,
          21.51562625778003,
          21.51562625778003,
          21.49013775495782,
          21.49013775495782,
          21.464649252135615,
          21.451905000724516,
          21.413672246491203,
          21.36269524084679,
          21.36269524084679,
          21.34995098943569,
          21.311718235202378,
          21.28622973238017,
          21.23525272673576,
          21.209764223913552,
          21.17153146968024,
          21.17153146968024,
          21.107810212624727,
          21.09506596121362,
          21.082321709802518,
          21.082321709802518,
          21.03134470415811,
          20.96762344710259,
          20.903902190047074,
          20.865669435813764,
          20.852925184402658,
          20.840180932991558,
          20.81469243016935,
          20.750971173113832,
          20.750971173113832,
          20.738226921702733,
          20.712738418880523,
          20.69999416746942,
          20.69999416746942,
          20.687249916058317,
          20.687249916058317,
          20.649017161825007,
          20.6362729104139,
          20.6235286590028,
          20.598040156180595,
          20.559807401947282,
          20.547063150536182,
          20.534318899125076,
          20.50883039630287,
          20.49608614489177,
          20.483341893480663,
          20.47059764206956,
          20.41962063642515,
          20.406876385014044,
          20.381387882191838,
          20.381387882191838,
          20.368643630780735,
          20.343155127958525,
          20.31766662513632,
          20.292178122314116,
          20.266689619491906,
          20.2412011166697,
          20.2412011166697,
          20.190224111025287,
          20.139247105380875,
          20.139247105380875,
          20.101014351147565,
          20.062781596914256,
          20.062781596914256,
          20.062781596914256,
          20.062781596914256,
          20.050037345503153,
          20.050037345503153,
          20.050037345503153,
          20.024548842680943,
          19.999060339858737,
          19.999060339858737,
          19.986316088447637,
          19.986316088447637,
          19.97357183703653,
          19.948083334214324,
          19.922594831392118,
          19.90985057998102,
          19.89710632856991,
          19.884362077158812,
          19.871617825747705,
          19.858873574336602,
          19.8461293229255,
          19.820640820103293,
          19.80789656869219,
          19.795152317281087,
          19.795152317281087,
          19.756919563047777,
          19.744175311636674,
          19.70594255740336,
          19.69319830599226,
          19.69319830599226,
          19.667709803170055,
          19.667709803170055,
          19.65496555175895,
          19.64222130034785,
          19.64222130034785,
          19.629477048936742,
          19.61673279752564,
          19.603988546114536,
          19.591244294703436,
          19.57850004329233,
          19.565755791881227,
          19.565755791881227,
          19.553011540470123,
          19.553011540470123,
          19.527523037647917,
          19.514778786236814,
          19.489290283414604,
          19.489290283414604,
          19.4638017805924,
          19.4638017805924,
          19.4638017805924,
          19.4510575291813,
          19.425569026359092,
          19.425569026359092,
          19.412824774947985,
          19.37459202071468,
          19.37459202071468,
          19.361847769303573,
          19.349103517892473,
          19.336359266481367,
          19.336359266481367,
          19.31087076365916,
          19.31087076365916,
          19.298126512248057,
          19.285382260836954,
          19.272638009425854,
          19.272638009425854,
          19.272638009425854,
          19.247149506603645,
          19.247149506603645,
          19.23440525519254,
          19.22166100378144,
          19.22166100378144,
          19.208916752370335,
          19.208916752370335,
          19.19617250095923,
          19.19617250095923,
          19.18342824954813,
          19.170683998137022,
          19.157939746725923,
          19.157939746725923,
          19.132451243903716,
          19.11970699249261,
          19.11970699249261,
          19.10696274108151,
          19.10696274108151,
          19.10696274108151,
          19.10696274108151,
          19.081474238259304,
          19.068729986848197,
          19.055985735437098,
          19.030497232614888,
          19.030497232614888,
          19.030497232614888,
          19.030497232614888,
          19.017752981203785,
          19.017752981203785,
          19.00500872979268,
          19.00500872979268,
          19.00500872979268,
          18.979520226970475,
          18.95403172414827,
          18.95403172414827,
          18.941287472737166,
          18.941287472737166,
          18.928543221326063,
          18.91579896991496,
          18.903054718503856,
          18.903054718503856,
          18.903054718503856,
          18.890310467092753,
          18.877566215681647,
          18.864821964270547,
          18.864821964270547,
          18.85207771285944,
          18.85207771285944,
          18.85207771285944,
          18.83933346144834,
          18.813844958626134,
          18.801100707215028,
          18.788356455803925,
          18.788356455803925,
          18.788356455803925,
          18.788356455803925,
          18.77561220439282,
          18.762867952981722,
          18.762867952981722,
          18.750123701570615,
          18.750123701570615,
          18.737379450159516,
          18.737379450159516,
          18.72463519874841,
          18.72463519874841,
          18.711890947337306,
          18.6864024445151,
          18.673658193103996,
          18.673658193103996,
          18.673658193103996,
          18.673658193103996,
          18.660913941692893,
          18.660913941692893,
          18.660913941692893,
          18.635425438870687,
          18.60993693604848,
          18.52072717617076,
          18.52072717617076,
          18.52072717617076,
          18.52072717617076,
          18.52072717617076,
          18.52072717617076,
          18.52072717617076,
          18.52072717617076,
          18.52072717617076,
          18.52072717617076,
          18.52072717617076,
          18.52072717617076,
          18.52072717617076,
          18.52072717617076,
          18.52072717617076,
          18.52072717617076,
          18.52072717617076,
          18.52072717617076,
          18.52072717617076,
          18.52072717617076,
          18.52072717617076,
          18.52072717617076,
          18.52072717617076,
          18.52072717617076,
          18.52072717617076,
          18.52072717617076,
          18.52072717617076,
          18.52072717617076,
          18.52072717617076,
          18.52072717617076,
          18.52072717617076,
          18.52072717617076,
          18.52072717617076,
          18.52072717617076,
          18.52072717617076,
          18.52072717617076,
          18.52072717617076,
          18.52072717617076,
          18.52072717617076,
          18.52072717617076,
          18.52072717617076,
          18.52072717617076
         ],
         "yaxis": "y"
        }
       ],
       "layout": {
        "legend": {
         "tracegroupgap": 0
        },
        "margin": {
         "t": 60
        },
        "template": {
         "data": {
          "bar": [
           {
            "error_x": {
             "color": "#2a3f5f"
            },
            "error_y": {
             "color": "#2a3f5f"
            },
            "marker": {
             "line": {
              "color": "#E5ECF6",
              "width": 0.5
             },
             "pattern": {
              "fillmode": "overlay",
              "size": 10,
              "solidity": 0.2
             }
            },
            "type": "bar"
           }
          ],
          "barpolar": [
           {
            "marker": {
             "line": {
              "color": "#E5ECF6",
              "width": 0.5
             },
             "pattern": {
              "fillmode": "overlay",
              "size": 10,
              "solidity": 0.2
             }
            },
            "type": "barpolar"
           }
          ],
          "carpet": [
           {
            "aaxis": {
             "endlinecolor": "#2a3f5f",
             "gridcolor": "white",
             "linecolor": "white",
             "minorgridcolor": "white",
             "startlinecolor": "#2a3f5f"
            },
            "baxis": {
             "endlinecolor": "#2a3f5f",
             "gridcolor": "white",
             "linecolor": "white",
             "minorgridcolor": "white",
             "startlinecolor": "#2a3f5f"
            },
            "type": "carpet"
           }
          ],
          "choropleth": [
           {
            "colorbar": {
             "outlinewidth": 0,
             "ticks": ""
            },
            "type": "choropleth"
           }
          ],
          "contour": [
           {
            "colorbar": {
             "outlinewidth": 0,
             "ticks": ""
            },
            "colorscale": [
             [
              0,
              "#0d0887"
             ],
             [
              0.1111111111111111,
              "#46039f"
             ],
             [
              0.2222222222222222,
              "#7201a8"
             ],
             [
              0.3333333333333333,
              "#9c179e"
             ],
             [
              0.4444444444444444,
              "#bd3786"
             ],
             [
              0.5555555555555556,
              "#d8576b"
             ],
             [
              0.6666666666666666,
              "#ed7953"
             ],
             [
              0.7777777777777778,
              "#fb9f3a"
             ],
             [
              0.8888888888888888,
              "#fdca26"
             ],
             [
              1,
              "#f0f921"
             ]
            ],
            "type": "contour"
           }
          ],
          "contourcarpet": [
           {
            "colorbar": {
             "outlinewidth": 0,
             "ticks": ""
            },
            "type": "contourcarpet"
           }
          ],
          "heatmap": [
           {
            "colorbar": {
             "outlinewidth": 0,
             "ticks": ""
            },
            "colorscale": [
             [
              0,
              "#0d0887"
             ],
             [
              0.1111111111111111,
              "#46039f"
             ],
             [
              0.2222222222222222,
              "#7201a8"
             ],
             [
              0.3333333333333333,
              "#9c179e"
             ],
             [
              0.4444444444444444,
              "#bd3786"
             ],
             [
              0.5555555555555556,
              "#d8576b"
             ],
             [
              0.6666666666666666,
              "#ed7953"
             ],
             [
              0.7777777777777778,
              "#fb9f3a"
             ],
             [
              0.8888888888888888,
              "#fdca26"
             ],
             [
              1,
              "#f0f921"
             ]
            ],
            "type": "heatmap"
           }
          ],
          "heatmapgl": [
           {
            "colorbar": {
             "outlinewidth": 0,
             "ticks": ""
            },
            "colorscale": [
             [
              0,
              "#0d0887"
             ],
             [
              0.1111111111111111,
              "#46039f"
             ],
             [
              0.2222222222222222,
              "#7201a8"
             ],
             [
              0.3333333333333333,
              "#9c179e"
             ],
             [
              0.4444444444444444,
              "#bd3786"
             ],
             [
              0.5555555555555556,
              "#d8576b"
             ],
             [
              0.6666666666666666,
              "#ed7953"
             ],
             [
              0.7777777777777778,
              "#fb9f3a"
             ],
             [
              0.8888888888888888,
              "#fdca26"
             ],
             [
              1,
              "#f0f921"
             ]
            ],
            "type": "heatmapgl"
           }
          ],
          "histogram": [
           {
            "marker": {
             "pattern": {
              "fillmode": "overlay",
              "size": 10,
              "solidity": 0.2
             }
            },
            "type": "histogram"
           }
          ],
          "histogram2d": [
           {
            "colorbar": {
             "outlinewidth": 0,
             "ticks": ""
            },
            "colorscale": [
             [
              0,
              "#0d0887"
             ],
             [
              0.1111111111111111,
              "#46039f"
             ],
             [
              0.2222222222222222,
              "#7201a8"
             ],
             [
              0.3333333333333333,
              "#9c179e"
             ],
             [
              0.4444444444444444,
              "#bd3786"
             ],
             [
              0.5555555555555556,
              "#d8576b"
             ],
             [
              0.6666666666666666,
              "#ed7953"
             ],
             [
              0.7777777777777778,
              "#fb9f3a"
             ],
             [
              0.8888888888888888,
              "#fdca26"
             ],
             [
              1,
              "#f0f921"
             ]
            ],
            "type": "histogram2d"
           }
          ],
          "histogram2dcontour": [
           {
            "colorbar": {
             "outlinewidth": 0,
             "ticks": ""
            },
            "colorscale": [
             [
              0,
              "#0d0887"
             ],
             [
              0.1111111111111111,
              "#46039f"
             ],
             [
              0.2222222222222222,
              "#7201a8"
             ],
             [
              0.3333333333333333,
              "#9c179e"
             ],
             [
              0.4444444444444444,
              "#bd3786"
             ],
             [
              0.5555555555555556,
              "#d8576b"
             ],
             [
              0.6666666666666666,
              "#ed7953"
             ],
             [
              0.7777777777777778,
              "#fb9f3a"
             ],
             [
              0.8888888888888888,
              "#fdca26"
             ],
             [
              1,
              "#f0f921"
             ]
            ],
            "type": "histogram2dcontour"
           }
          ],
          "mesh3d": [
           {
            "colorbar": {
             "outlinewidth": 0,
             "ticks": ""
            },
            "type": "mesh3d"
           }
          ],
          "parcoords": [
           {
            "line": {
             "colorbar": {
              "outlinewidth": 0,
              "ticks": ""
             }
            },
            "type": "parcoords"
           }
          ],
          "pie": [
           {
            "automargin": true,
            "type": "pie"
           }
          ],
          "scatter": [
           {
            "marker": {
             "colorbar": {
              "outlinewidth": 0,
              "ticks": ""
             }
            },
            "type": "scatter"
           }
          ],
          "scatter3d": [
           {
            "line": {
             "colorbar": {
              "outlinewidth": 0,
              "ticks": ""
             }
            },
            "marker": {
             "colorbar": {
              "outlinewidth": 0,
              "ticks": ""
             }
            },
            "type": "scatter3d"
           }
          ],
          "scattercarpet": [
           {
            "marker": {
             "colorbar": {
              "outlinewidth": 0,
              "ticks": ""
             }
            },
            "type": "scattercarpet"
           }
          ],
          "scattergeo": [
           {
            "marker": {
             "colorbar": {
              "outlinewidth": 0,
              "ticks": ""
             }
            },
            "type": "scattergeo"
           }
          ],
          "scattergl": [
           {
            "marker": {
             "colorbar": {
              "outlinewidth": 0,
              "ticks": ""
             }
            },
            "type": "scattergl"
           }
          ],
          "scattermapbox": [
           {
            "marker": {
             "colorbar": {
              "outlinewidth": 0,
              "ticks": ""
             }
            },
            "type": "scattermapbox"
           }
          ],
          "scatterpolar": [
           {
            "marker": {
             "colorbar": {
              "outlinewidth": 0,
              "ticks": ""
             }
            },
            "type": "scatterpolar"
           }
          ],
          "scatterpolargl": [
           {
            "marker": {
             "colorbar": {
              "outlinewidth": 0,
              "ticks": ""
             }
            },
            "type": "scatterpolargl"
           }
          ],
          "scatterternary": [
           {
            "marker": {
             "colorbar": {
              "outlinewidth": 0,
              "ticks": ""
             }
            },
            "type": "scatterternary"
           }
          ],
          "surface": [
           {
            "colorbar": {
             "outlinewidth": 0,
             "ticks": ""
            },
            "colorscale": [
             [
              0,
              "#0d0887"
             ],
             [
              0.1111111111111111,
              "#46039f"
             ],
             [
              0.2222222222222222,
              "#7201a8"
             ],
             [
              0.3333333333333333,
              "#9c179e"
             ],
             [
              0.4444444444444444,
              "#bd3786"
             ],
             [
              0.5555555555555556,
              "#d8576b"
             ],
             [
              0.6666666666666666,
              "#ed7953"
             ],
             [
              0.7777777777777778,
              "#fb9f3a"
             ],
             [
              0.8888888888888888,
              "#fdca26"
             ],
             [
              1,
              "#f0f921"
             ]
            ],
            "type": "surface"
           }
          ],
          "table": [
           {
            "cells": {
             "fill": {
              "color": "#EBF0F8"
             },
             "line": {
              "color": "white"
             }
            },
            "header": {
             "fill": {
              "color": "#C8D4E3"
             },
             "line": {
              "color": "white"
             }
            },
            "type": "table"
           }
          ]
         },
         "layout": {
          "annotationdefaults": {
           "arrowcolor": "#2a3f5f",
           "arrowhead": 0,
           "arrowwidth": 1
          },
          "autotypenumbers": "strict",
          "coloraxis": {
           "colorbar": {
            "outlinewidth": 0,
            "ticks": ""
           }
          },
          "colorscale": {
           "diverging": [
            [
             0,
             "#8e0152"
            ],
            [
             0.1,
             "#c51b7d"
            ],
            [
             0.2,
             "#de77ae"
            ],
            [
             0.3,
             "#f1b6da"
            ],
            [
             0.4,
             "#fde0ef"
            ],
            [
             0.5,
             "#f7f7f7"
            ],
            [
             0.6,
             "#e6f5d0"
            ],
            [
             0.7,
             "#b8e186"
            ],
            [
             0.8,
             "#7fbc41"
            ],
            [
             0.9,
             "#4d9221"
            ],
            [
             1,
             "#276419"
            ]
           ],
           "sequential": [
            [
             0,
             "#0d0887"
            ],
            [
             0.1111111111111111,
             "#46039f"
            ],
            [
             0.2222222222222222,
             "#7201a8"
            ],
            [
             0.3333333333333333,
             "#9c179e"
            ],
            [
             0.4444444444444444,
             "#bd3786"
            ],
            [
             0.5555555555555556,
             "#d8576b"
            ],
            [
             0.6666666666666666,
             "#ed7953"
            ],
            [
             0.7777777777777778,
             "#fb9f3a"
            ],
            [
             0.8888888888888888,
             "#fdca26"
            ],
            [
             1,
             "#f0f921"
            ]
           ],
           "sequentialminus": [
            [
             0,
             "#0d0887"
            ],
            [
             0.1111111111111111,
             "#46039f"
            ],
            [
             0.2222222222222222,
             "#7201a8"
            ],
            [
             0.3333333333333333,
             "#9c179e"
            ],
            [
             0.4444444444444444,
             "#bd3786"
            ],
            [
             0.5555555555555556,
             "#d8576b"
            ],
            [
             0.6666666666666666,
             "#ed7953"
            ],
            [
             0.7777777777777778,
             "#fb9f3a"
            ],
            [
             0.8888888888888888,
             "#fdca26"
            ],
            [
             1,
             "#f0f921"
            ]
           ]
          },
          "colorway": [
           "#636efa",
           "#EF553B",
           "#00cc96",
           "#ab63fa",
           "#FFA15A",
           "#19d3f3",
           "#FF6692",
           "#B6E880",
           "#FF97FF",
           "#FECB52"
          ],
          "font": {
           "color": "#2a3f5f"
          },
          "geo": {
           "bgcolor": "white",
           "lakecolor": "white",
           "landcolor": "#E5ECF6",
           "showlakes": true,
           "showland": true,
           "subunitcolor": "white"
          },
          "hoverlabel": {
           "align": "left"
          },
          "hovermode": "closest",
          "mapbox": {
           "style": "light"
          },
          "paper_bgcolor": "white",
          "plot_bgcolor": "#E5ECF6",
          "polar": {
           "angularaxis": {
            "gridcolor": "white",
            "linecolor": "white",
            "ticks": ""
           },
           "bgcolor": "#E5ECF6",
           "radialaxis": {
            "gridcolor": "white",
            "linecolor": "white",
            "ticks": ""
           }
          },
          "scene": {
           "xaxis": {
            "backgroundcolor": "#E5ECF6",
            "gridcolor": "white",
            "gridwidth": 2,
            "linecolor": "white",
            "showbackground": true,
            "ticks": "",
            "zerolinecolor": "white"
           },
           "yaxis": {
            "backgroundcolor": "#E5ECF6",
            "gridcolor": "white",
            "gridwidth": 2,
            "linecolor": "white",
            "showbackground": true,
            "ticks": "",
            "zerolinecolor": "white"
           },
           "zaxis": {
            "backgroundcolor": "#E5ECF6",
            "gridcolor": "white",
            "gridwidth": 2,
            "linecolor": "white",
            "showbackground": true,
            "ticks": "",
            "zerolinecolor": "white"
           }
          },
          "shapedefaults": {
           "line": {
            "color": "#2a3f5f"
           }
          },
          "ternary": {
           "aaxis": {
            "gridcolor": "white",
            "linecolor": "white",
            "ticks": ""
           },
           "baxis": {
            "gridcolor": "white",
            "linecolor": "white",
            "ticks": ""
           },
           "bgcolor": "#E5ECF6",
           "caxis": {
            "gridcolor": "white",
            "linecolor": "white",
            "ticks": ""
           }
          },
          "title": {
           "x": 0.05
          },
          "xaxis": {
           "automargin": true,
           "gridcolor": "white",
           "linecolor": "white",
           "ticks": "",
           "title": {
            "standoff": 15
           },
           "zerolinecolor": "white",
           "zerolinewidth": 2
          },
          "yaxis": {
           "automargin": true,
           "gridcolor": "white",
           "linecolor": "white",
           "ticks": "",
           "title": {
            "standoff": 15
           },
           "zerolinecolor": "white",
           "zerolinewidth": 2
          }
         }
        },
        "xaxis": {
         "anchor": "y",
         "domain": [
          0,
          1
         ],
         "title": {
          "text": "AGE"
         }
        },
        "yaxis": {
         "anchor": "x",
         "domain": [
          0,
          1
         ],
         "title": {
          "text": "MEDV"
         }
        }
       }
      },
      "text/html": [
       "<div>                            <div id=\"64fbdbf7-d9a4-4547-84f1-0df2333aaf16\" class=\"plotly-graph-div\" style=\"height:525px; width:100%;\"></div>            <script type=\"text/javascript\">                require([\"plotly\"], function(Plotly) {                    window.PLOTLYENV=window.PLOTLYENV || {};                                    if (document.getElementById(\"64fbdbf7-d9a4-4547-84f1-0df2333aaf16\")) {                    Plotly.newPlot(                        \"64fbdbf7-d9a4-4547-84f1-0df2333aaf16\",                        [{\"hovertemplate\":\"AGE=%{x}<br>MEDV=%{y}<extra></extra>\",\"legendgroup\":\"\",\"marker\":{\"color\":\"#636efa\",\"symbol\":\"circle\"},\"mode\":\"markers\",\"name\":\"\",\"orientation\":\"v\",\"showlegend\":false,\"type\":\"scatter\",\"x\":[65.2,78.9,61.1,45.8,54.2,58.7,66.6,96.1,100.0,85.9,94.3,82.9,39.0,61.8,84.5,56.5,29.3,81.7,36.6,69.5,98.1,89.2,91.7,100.0,94.1,85.7,90.3,88.8,94.4,87.3,94.1,100.0,82.0,95.0,96.9,68.2,61.4,41.5,30.2,21.8,15.8,2.9,6.6,6.5,40.0,33.8,33.3,85.5,95.3,62.0,45.7,63.0,21.1,21.4,47.6,21.9,35.7,40.5,29.2,47.2,66.2,93.4,67.8,43.4,59.5,17.8,31.1,21.4,36.8,33.0,6.6,17.5,7.8,6.2,68.51851851851852,45.0,74.5,45.8,53.7,36.6,33.5,70.4,32.2,46.7,48.0,56.1,45.1,56.8,86.3,63.1,66.1,73.9,53.6,28.9,77.3,57.8,69.6,76.0,36.9,62.5,79.9,71.3,85.4,68.51851851851852,90.0,96.7,91.9,85.2,97.1,91.2,54.4,81.6,92.9,95.4,84.2,88.2,72.5,82.6,73.1,65.2,69.7,84.1,92.9,97.0,95.8,88.4,68.51851851851852,96.0,98.8,94.7,98.9,97.7,97.9,95.4,98.4,98.2,93.5,98.4,68.51851851851852,97.9,93.6,100.0,100.0,100.0,97.8,100.0,100.0,95.7,93.8,94.9,68.51851851851852,100.0,88.0,98.5,96.0,68.51851851851852,94.0,97.4,100.0,100.0,92.6,90.8,98.2,68.51851851851852,91.8,93.0,96.2,79.2,96.1,95.2,94.6,97.3,88.5,68.51851851851852,68.7,33.1,47.2,73.4,74.4,58.4,83.3,62.2,92.2,95.6,89.8,68.8,53.6,41.1,29.1,38.9,21.5,30.8,26.3,68.51851851851852,18.8,32.0,34.1,36.6,38.3,15.3,13.9,38.4,15.7,33.2,31.9,22.3,52.5,72.7,59.1,100.0,92.1,88.6,53.8,32.3,9.8,68.51851851851852,56.0,85.1,93.8,92.4,88.5,91.3,77.7,80.8,78.3,83.0,86.5,79.9,17.0,21.4,68.1,76.9,73.3,68.51851851851852,66.5,61.5,76.5,71.6,18.5,42.2,54.3,65.1,52.9,7.8,76.5,70.2,34.9,79.2,49.1,17.5,13.0,8.9,6.8,8.4,32.0,19.1,34.2,86.9,100.0,100.0,81.8,89.4,91.5,94.5,91.6,62.8,84.6,67.0,52.6,61.5,42.1,16.3,58.7,51.8,32.9,42.8,49.0,27.6,32.1,32.2,64.5,68.51851851851852,49.7,24.8,20.8,31.9,68.51851851851852,31.3,45.6,22.9,27.9,27.7,23.4,18.4,42.3,31.1,51.0,58.0,20.1,10.0,47.4,40.4,18.4,17.7,41.1,58.1,71.9,70.3,82.5,76.7,37.8,52.8,90.4,82.8,87.3,77.7,68.51851851851852,71.7,67.2,58.8,52.3,54.3,49.9,74.3,40.1,14.7,28.9,43.7,25.8,17.2,32.2,28.4,23.3,38.1,38.5,34.5,46.3,59.6,37.3,45.4,58.5,49.3,59.7,56.4,28.1,48.5,52.3,27.7,29.7,34.5,44.4,35.9,18.5,36.1,21.9,68.51851851851852,97.4,91.0,83.4,81.3,88.0,91.1,96.2,89.0,82.9,87.9,91.4,100.0,68.51851851851852,96.8,97.5,100.0,89.6,100.0,100.0,97.9,93.3,98.8,96.2,100.0,91.9,99.1,100.0,100.0,91.2,98.1,100.0,89.5,100.0,98.9,97.0,82.5,97.0,92.6,94.7,98.8,96.0,98.9,100.0,77.8,100.0,100.0,100.0,96.0,85.4,100.0,100.0,100.0,97.9,100.0,100.0,100.0,100.0,100.0,100.0,100.0,90.8,89.1,100.0,76.5,100.0,95.3,87.6,68.51851851851852,70.6,95.4,59.7,78.7,78.1,68.51851851851852,86.1,94.3,74.8,87.9,95.0,94.6,93.3,100.0,87.9,93.9,92.4,97.2,100.0,100.0,96.6,94.8,96.4,96.6,98.7,98.3,92.6,68.51851851851852,91.8,99.3,94.1,86.5,87.9,80.3,83.7,84.4,90.0,88.4,83.0,89.9,65.4,48.2,84.7,94.5,71.0,56.7,84.0,90.7,75.0,67.6,95.4,97.4,93.6,97.3,96.7,88.0,64.7,74.9,77.0,40.3,41.9,51.9,79.8,53.2,92.7,98.3,98.0,98.8,83.5,54.0,42.6,28.8,72.9,70.6,65.3,73.5,79.7,69.1,76.7,91.0,89.3,68.51851851851852],\"xaxis\":\"x\",\"y\":[24.0,21.6,34.7,33.4,36.2,28.7,22.9,27.1,16.5,18.9,15.0,18.9,21.7,20.4,18.2,19.9,23.1,17.5,20.2,18.2,13.6,19.6,15.2,14.5,15.6,13.9,16.6,14.8,18.4,21.0,12.7,14.5,13.2,13.1,13.5,18.9,20.0,21.0,24.7,30.8,34.9,26.6,25.3,24.7,21.2,19.3,20.0,16.6,14.4,19.4,19.7,20.5,25.0,23.4,18.9,35.4,24.7,31.6,23.3,19.6,18.7,16.0,22.2,25.0,33.0,23.5,19.4,22.0,17.4,20.9,24.2,21.7,22.8,23.4,24.1,21.4,20.0,20.8,21.2,20.3,28.0,23.9,24.8,22.9,23.9,26.6,22.5,22.2,23.6,28.7,22.6,22.0,22.9,25.0,20.6,28.4,21.4,38.7,43.8,33.2,27.5,26.5,18.6,19.3,20.1,19.5,19.5,20.4,19.8,19.4,21.7,22.8,18.8,18.7,18.5,18.3,21.2,19.2,20.4,19.3,22.0,20.3,20.5,17.3,18.8,21.4,15.7,16.2,18.0,14.3,19.2,19.6,23.0,18.4,15.6,18.1,17.4,17.1,13.3,17.8,14.0,14.4,13.4,15.6,11.8,13.8,15.6,14.6,17.8,15.4,21.5,19.6,15.3,19.4,17.0,15.6,13.1,41.3,24.3,23.3,27.0,50.0,50.0,50.0,22.7,25.0,50.0,23.8,23.8,22.3,17.4,19.1,23.1,23.6,22.6,29.4,23.2,24.6,29.9,37.2,39.8,36.2,37.9,32.5,26.4,29.6,50.0,32.0,29.8,34.9,37.0,30.5,36.4,31.1,29.1,50.0,33.3,30.3,34.6,34.9,32.9,24.1,42.3,48.5,50.0,22.6,24.4,22.5,24.4,20.0,21.7,19.3,22.4,28.1,23.7,25.0,23.3,28.7,21.5,23.0,26.7,21.7,27.5,30.1,44.8,50.0,37.6,31.6,46.7,31.5,24.3,31.7,41.7,48.3,29.0,24.0,25.1,31.5,23.7,23.3,22.0,20.1,22.2,23.7,17.6,18.5,24.3,20.5,24.5,26.2,24.4,24.8,29.6,42.8,21.9,20.9,44.0,50.0,36.0,30.1,33.8,43.1,48.8,31.0,36.5,22.8,30.7,50.0,43.5,20.7,21.1,25.2,24.4,35.2,32.4,32.0,33.2,33.1,29.1,35.1,45.4,35.4,46.0,50.0,32.2,22.0,20.1,23.2,22.3,24.8,28.5,37.3,27.9,23.9,21.7,28.6,27.1,20.3,22.5,29.0,24.8,22.0,26.4,33.1,36.1,28.4,33.4,28.2,22.8,20.3,16.1,22.1,19.4,21.6,23.8,16.2,17.8,19.8,23.1,21.0,23.8,23.1,20.4,18.5,25.0,24.6,23.0,22.2,19.3,22.6,19.8,17.1,19.4,22.2,20.7,21.1,19.5,18.5,20.6,19.0,18.7,32.7,16.5,23.9,31.2,17.5,17.2,23.1,24.5,26.6,22.9,24.1,18.6,30.1,18.2,20.6,17.8,21.7,22.7,22.6,25.0,19.9,20.8,16.8,21.9,27.5,21.9,23.1,50.0,50.0,50.0,50.0,50.0,13.8,13.8,15.0,13.9,13.3,13.1,10.2,10.4,10.9,11.3,12.3,8.8,7.2,10.5,7.4,10.2,11.5,15.1,23.2,9.7,13.8,12.7,13.1,12.5,8.5,5.0,6.3,5.6,7.2,12.1,8.3,8.5,5.0,11.9,27.9,17.2,27.5,15.0,17.2,17.9,16.3,7.0,7.2,7.5,10.4,8.8,8.4,16.7,14.2,20.8,13.4,11.7,8.3,10.2,10.9,11.0,9.5,14.5,14.1,16.1,14.3,11.7,13.4,9.6,8.7,8.4,12.8,10.5,17.1,18.4,15.4,10.8,11.8,14.9,12.6,14.1,13.0,13.4,15.2,16.1,17.8,14.9,14.1,12.7,13.5,14.9,20.0,16.4,17.7,19.5,20.2,21.4,19.9,19.0,19.1,19.1,20.1,19.9,19.6,23.2,29.8,13.8,13.3,16.7,12.0,14.6,21.4,23.0,23.7,25.0,21.8,20.6,21.2,19.1,20.6,15.2,7.0,8.1,13.6,20.1,21.8,24.5,23.1,19.7,18.3,21.2,17.5,16.8,22.4,20.6,23.9,22.0,11.9],\"yaxis\":\"y\"},{\"hovertemplate\":\"<b>OLS trendline</b><br>MEDV = -0.127443 * AGE + 31.265<br>R<sup>2</sup>=0.144570<br><br>AGE=%{x}<br>MEDV=%{y} <b>(trend)</b><extra></extra>\",\"legendgroup\":\"\",\"marker\":{\"color\":\"#636efa\",\"symbol\":\"circle\"},\"mode\":\"lines\",\"name\":\"\",\"showlegend\":false,\"type\":\"scatter\",\"x\":[2.9,6.2,6.5,6.6,6.6,6.8,7.8,7.8,8.4,8.9,9.8,10.0,13.0,13.9,14.7,15.3,15.7,15.8,16.3,17.0,17.2,17.5,17.5,17.7,17.8,18.4,18.4,18.5,18.5,18.8,19.1,20.1,20.8,21.1,21.4,21.4,21.4,21.5,21.8,21.9,21.9,22.3,22.9,23.3,23.4,24.8,25.8,26.3,27.6,27.7,27.7,27.9,28.1,28.4,28.8,28.9,28.9,29.1,29.2,29.3,29.7,30.2,30.8,31.1,31.1,31.3,31.9,31.9,32.0,32.0,32.1,32.2,32.2,32.2,32.3,32.9,33.0,33.1,33.2,33.3,33.5,33.8,34.1,34.2,34.5,34.5,34.9,35.7,35.9,36.1,36.6,36.6,36.6,36.8,36.9,37.3,37.8,38.1,38.3,38.4,38.5,38.9,39.0,40.0,40.1,40.3,40.4,40.5,41.1,41.1,41.5,41.9,42.1,42.2,42.3,42.6,42.8,43.4,43.7,44.4,45.0,45.1,45.4,45.6,45.7,45.8,45.8,46.3,46.7,47.2,47.2,47.4,47.6,48.0,48.2,48.5,49.0,49.1,49.3,49.7,49.9,51.0,51.8,51.9,52.3,52.3,52.5,52.6,52.8,52.9,53.2,53.6,53.6,53.7,53.8,54.0,54.2,54.3,54.3,54.4,56.0,56.1,56.4,56.5,56.7,56.8,57.8,58.0,58.1,58.4,58.5,58.7,58.7,58.8,59.1,59.5,59.6,59.7,59.7,61.1,61.4,61.5,61.5,61.8,62.0,62.2,62.5,62.8,63.0,63.1,64.5,64.7,65.1,65.2,65.2,65.3,65.4,66.1,66.2,66.5,66.6,67.0,67.2,67.6,67.8,68.1,68.2,68.51851851851852,68.51851851851852,68.51851851851852,68.51851851851852,68.51851851851852,68.51851851851852,68.51851851851852,68.51851851851852,68.51851851851852,68.51851851851852,68.51851851851852,68.51851851851852,68.51851851851852,68.51851851851852,68.51851851851852,68.51851851851852,68.51851851851852,68.51851851851852,68.51851851851852,68.51851851851852,68.7,68.8,69.1,69.5,69.6,69.7,70.2,70.3,70.4,70.6,70.6,71.0,71.3,71.6,71.7,71.9,72.5,72.7,72.9,73.1,73.3,73.4,73.5,73.9,74.3,74.4,74.5,74.8,74.9,75.0,76.0,76.5,76.5,76.5,76.7,76.7,76.9,77.0,77.3,77.7,77.7,77.8,78.1,78.3,78.7,78.9,79.2,79.2,79.7,79.8,79.9,79.9,80.3,80.8,81.3,81.6,81.7,81.8,82.0,82.5,82.5,82.6,82.8,82.9,82.9,83.0,83.0,83.3,83.4,83.5,83.7,84.0,84.1,84.2,84.4,84.5,84.6,84.7,85.1,85.2,85.4,85.4,85.5,85.7,85.9,86.1,86.3,86.5,86.5,86.9,87.3,87.3,87.6,87.9,87.9,87.9,87.9,88.0,88.0,88.0,88.2,88.4,88.4,88.5,88.5,88.6,88.8,89.0,89.1,89.2,89.3,89.4,89.5,89.6,89.8,89.9,90.0,90.0,90.3,90.4,90.7,90.8,90.8,91.0,91.0,91.1,91.2,91.2,91.3,91.4,91.5,91.6,91.7,91.8,91.8,91.9,91.9,92.1,92.2,92.4,92.4,92.6,92.6,92.6,92.7,92.9,92.9,93.0,93.3,93.3,93.4,93.5,93.6,93.6,93.8,93.8,93.9,94.0,94.1,94.1,94.1,94.3,94.3,94.4,94.5,94.5,94.6,94.6,94.7,94.7,94.8,94.9,95.0,95.0,95.2,95.3,95.3,95.4,95.4,95.4,95.4,95.6,95.7,95.8,96.0,96.0,96.0,96.0,96.1,96.1,96.2,96.2,96.2,96.4,96.6,96.6,96.7,96.7,96.8,96.9,97.0,97.0,97.0,97.1,97.2,97.3,97.3,97.4,97.4,97.4,97.5,97.7,97.8,97.9,97.9,97.9,97.9,98.0,98.1,98.1,98.2,98.2,98.3,98.3,98.4,98.4,98.5,98.7,98.8,98.8,98.8,98.8,98.9,98.9,98.9,99.1,99.3,100.0,100.0,100.0,100.0,100.0,100.0,100.0,100.0,100.0,100.0,100.0,100.0,100.0,100.0,100.0,100.0,100.0,100.0,100.0,100.0,100.0,100.0,100.0,100.0,100.0,100.0,100.0,100.0,100.0,100.0,100.0,100.0,100.0,100.0,100.0,100.0,100.0,100.0,100.0,100.0,100.0,100.0],\"xaxis\":\"x\",\"y\":[30.895395296352056,30.474834999785646,30.436602245552336,30.423857994141233,30.423857994141233,30.398369491319027,30.270926977207996,30.270926977207996,30.194461468741373,30.130740211685858,30.01604194898593,29.990553446163723,29.608225903830622,29.493527641130694,29.391573629841865,29.315108121375246,29.264131115730834,29.25138686431973,29.187665607264215,29.09845584738649,29.072967344564283,29.034734590330974,29.034734590330974,29.009246087508767,28.996501836097664,28.920036327631045,28.920036327631045,28.907292076219942,28.907292076219942,28.869059321986633,28.83082656775332,28.70338405364229,28.614174293764567,28.575941539531257,28.537708785297944,28.537708785297944,28.537708785297944,28.52496453388684,28.48673177965353,28.47398752824243,28.47398752824243,28.423010522598016,28.346545014131397,28.295568008486985,28.28282375707588,28.104404237320434,27.9769617232094,27.913240466153884,27.747565197809543,27.73482094639844,27.73482094639844,27.709332443576233,27.683843940754024,27.645611186520714,27.5946341808763,27.5818899294652,27.5818899294652,27.556401426642992,27.54365717523189,27.530912923820786,27.479935918176373,27.416214661120858,27.339749152654235,27.301516398420926,27.301516398420926,27.27602789559872,27.1995623871321,27.1995623871321,27.186818135720998,27.186818135720998,27.174073884309895,27.16132963289879,27.16132963289879,27.16132963289879,27.14858538148769,27.072119873021066,27.059375621609963,27.04663137019886,27.033887118787757,27.021142867376653,26.995654364554447,26.957421610321138,26.91918885608783,26.906444604676725,26.868211850443416,26.868211850443416,26.817234844799003,26.715280833510175,26.68979233068797,26.664303827865762,26.600582570810246,26.600582570810246,26.600582570810246,26.57509406798804,26.562349816576933,26.51137281093252,26.447651553877005,26.409418799643696,26.38393029682149,26.371186045410386,26.358441793999283,26.30746478835487,26.294720536943768,26.167278022832733,26.15453377142163,26.129045268599423,26.11630101718832,26.103556765777217,26.027091257310598,26.027091257310598,25.976114251666182,25.92513724602177,25.899648743199563,25.88690449178846,25.874160240377357,25.835927486144048,25.81043898332184,25.733973474855222,25.695740720621913,25.606530960744188,25.53006545227757,25.517321200866466,25.479088446633156,25.45359994381095,25.440855692399843,25.428111440988744,25.428111440988744,25.364390183933224,25.313413178288812,25.249691921233296,25.249691921233296,25.22420341841109,25.198714915588884,25.147737909944468,25.12224940712226,25.084016652888955,25.020295395833436,25.007551144422333,24.982062641600127,24.931085635955714,24.905597133133508,24.76541036761137,24.663456356322545,24.65071210491144,24.59973509926703,24.59973509926703,24.574246596444823,24.561502345033716,24.53601384221151,24.52326959080041,24.485036836567097,24.434059830922685,24.434059830922685,24.42131557951158,24.40857132810048,24.383082825278272,24.357594322456066,24.344850071044963,24.344850071044963,24.33210581963386,24.128197797056206,24.115453545645103,24.077220791411793,24.06447654000069,24.038988037178484,24.02624378576738,23.898801271656346,23.87331276883414,23.860568517423037,23.822335763189727,23.809591511778624,23.784103008956418,23.784103008956418,23.771358757545315,23.733126003312005,23.68214899766759,23.66940474625649,23.656660494845383,23.656660494845383,23.47824097508994,23.44000822085663,23.427263969445526,23.427263969445526,23.389031215212214,23.363542712390007,23.3380542095678,23.29982145533449,23.261588701101182,23.236100198278976,23.223355946867873,23.044936427112425,23.01944792429022,22.968470918645806,22.955726667234703,22.955726667234703,22.9429824158236,22.930238164412494,22.841028404534775,22.82828415312367,22.790051398890363,22.777307147479256,22.726330141834843,22.700841639012637,22.649864633368225,22.62437613054602,22.58614337631271,22.573399124901606,22.53280632411068,22.53280632411068,22.53280632411068,22.53280632411068,22.53280632411068,22.53280632411068,22.53280632411068,22.53280632411068,22.53280632411068,22.53280632411068,22.53280632411068,22.53280632411068,22.53280632411068,22.53280632411068,22.53280632411068,22.53280632411068,22.53280632411068,22.53280632411068,22.53280632411068,22.53280632411068,22.509677867846086,22.496933616434987,22.458700862201674,22.40772385655726,22.39497960514616,22.382235353735055,22.318514096679536,22.305769845268436,22.29302559385733,22.267537091035127,22.267537091035127,22.21656008539071,22.178327331157405,22.140094576924092,22.12735032551299,22.101861822690783,22.02539631422416,21.999907811401954,21.974419308579748,21.94893080575754,21.923442302935335,21.910698051524232,21.89795380011313,21.846976794468716,21.795999788824304,21.783255537413197,21.770511286002098,21.732278531768788,21.719534280357685,21.70679002894658,21.579347514835547,21.51562625778003,21.51562625778003,21.51562625778003,21.49013775495782,21.49013775495782,21.464649252135615,21.451905000724516,21.413672246491203,21.36269524084679,21.36269524084679,21.34995098943569,21.311718235202378,21.28622973238017,21.23525272673576,21.209764223913552,21.17153146968024,21.17153146968024,21.107810212624727,21.09506596121362,21.082321709802518,21.082321709802518,21.03134470415811,20.96762344710259,20.903902190047074,20.865669435813764,20.852925184402658,20.840180932991558,20.81469243016935,20.750971173113832,20.750971173113832,20.738226921702733,20.712738418880523,20.69999416746942,20.69999416746942,20.687249916058317,20.687249916058317,20.649017161825007,20.6362729104139,20.6235286590028,20.598040156180595,20.559807401947282,20.547063150536182,20.534318899125076,20.50883039630287,20.49608614489177,20.483341893480663,20.47059764206956,20.41962063642515,20.406876385014044,20.381387882191838,20.381387882191838,20.368643630780735,20.343155127958525,20.31766662513632,20.292178122314116,20.266689619491906,20.2412011166697,20.2412011166697,20.190224111025287,20.139247105380875,20.139247105380875,20.101014351147565,20.062781596914256,20.062781596914256,20.062781596914256,20.062781596914256,20.050037345503153,20.050037345503153,20.050037345503153,20.024548842680943,19.999060339858737,19.999060339858737,19.986316088447637,19.986316088447637,19.97357183703653,19.948083334214324,19.922594831392118,19.90985057998102,19.89710632856991,19.884362077158812,19.871617825747705,19.858873574336602,19.8461293229255,19.820640820103293,19.80789656869219,19.795152317281087,19.795152317281087,19.756919563047777,19.744175311636674,19.70594255740336,19.69319830599226,19.69319830599226,19.667709803170055,19.667709803170055,19.65496555175895,19.64222130034785,19.64222130034785,19.629477048936742,19.61673279752564,19.603988546114536,19.591244294703436,19.57850004329233,19.565755791881227,19.565755791881227,19.553011540470123,19.553011540470123,19.527523037647917,19.514778786236814,19.489290283414604,19.489290283414604,19.4638017805924,19.4638017805924,19.4638017805924,19.4510575291813,19.425569026359092,19.425569026359092,19.412824774947985,19.37459202071468,19.37459202071468,19.361847769303573,19.349103517892473,19.336359266481367,19.336359266481367,19.31087076365916,19.31087076365916,19.298126512248057,19.285382260836954,19.272638009425854,19.272638009425854,19.272638009425854,19.247149506603645,19.247149506603645,19.23440525519254,19.22166100378144,19.22166100378144,19.208916752370335,19.208916752370335,19.19617250095923,19.19617250095923,19.18342824954813,19.170683998137022,19.157939746725923,19.157939746725923,19.132451243903716,19.11970699249261,19.11970699249261,19.10696274108151,19.10696274108151,19.10696274108151,19.10696274108151,19.081474238259304,19.068729986848197,19.055985735437098,19.030497232614888,19.030497232614888,19.030497232614888,19.030497232614888,19.017752981203785,19.017752981203785,19.00500872979268,19.00500872979268,19.00500872979268,18.979520226970475,18.95403172414827,18.95403172414827,18.941287472737166,18.941287472737166,18.928543221326063,18.91579896991496,18.903054718503856,18.903054718503856,18.903054718503856,18.890310467092753,18.877566215681647,18.864821964270547,18.864821964270547,18.85207771285944,18.85207771285944,18.85207771285944,18.83933346144834,18.813844958626134,18.801100707215028,18.788356455803925,18.788356455803925,18.788356455803925,18.788356455803925,18.77561220439282,18.762867952981722,18.762867952981722,18.750123701570615,18.750123701570615,18.737379450159516,18.737379450159516,18.72463519874841,18.72463519874841,18.711890947337306,18.6864024445151,18.673658193103996,18.673658193103996,18.673658193103996,18.673658193103996,18.660913941692893,18.660913941692893,18.660913941692893,18.635425438870687,18.60993693604848,18.52072717617076,18.52072717617076,18.52072717617076,18.52072717617076,18.52072717617076,18.52072717617076,18.52072717617076,18.52072717617076,18.52072717617076,18.52072717617076,18.52072717617076,18.52072717617076,18.52072717617076,18.52072717617076,18.52072717617076,18.52072717617076,18.52072717617076,18.52072717617076,18.52072717617076,18.52072717617076,18.52072717617076,18.52072717617076,18.52072717617076,18.52072717617076,18.52072717617076,18.52072717617076,18.52072717617076,18.52072717617076,18.52072717617076,18.52072717617076,18.52072717617076,18.52072717617076,18.52072717617076,18.52072717617076,18.52072717617076,18.52072717617076,18.52072717617076,18.52072717617076,18.52072717617076,18.52072717617076,18.52072717617076,18.52072717617076],\"yaxis\":\"y\"}],                        {\"legend\":{\"tracegroupgap\":0},\"margin\":{\"t\":60},\"template\":{\"data\":{\"bar\":[{\"error_x\":{\"color\":\"#2a3f5f\"},\"error_y\":{\"color\":\"#2a3f5f\"},\"marker\":{\"line\":{\"color\":\"#E5ECF6\",\"width\":0.5},\"pattern\":{\"fillmode\":\"overlay\",\"size\":10,\"solidity\":0.2}},\"type\":\"bar\"}],\"barpolar\":[{\"marker\":{\"line\":{\"color\":\"#E5ECF6\",\"width\":0.5},\"pattern\":{\"fillmode\":\"overlay\",\"size\":10,\"solidity\":0.2}},\"type\":\"barpolar\"}],\"carpet\":[{\"aaxis\":{\"endlinecolor\":\"#2a3f5f\",\"gridcolor\":\"white\",\"linecolor\":\"white\",\"minorgridcolor\":\"white\",\"startlinecolor\":\"#2a3f5f\"},\"baxis\":{\"endlinecolor\":\"#2a3f5f\",\"gridcolor\":\"white\",\"linecolor\":\"white\",\"minorgridcolor\":\"white\",\"startlinecolor\":\"#2a3f5f\"},\"type\":\"carpet\"}],\"choropleth\":[{\"colorbar\":{\"outlinewidth\":0,\"ticks\":\"\"},\"type\":\"choropleth\"}],\"contour\":[{\"colorbar\":{\"outlinewidth\":0,\"ticks\":\"\"},\"colorscale\":[[0.0,\"#0d0887\"],[0.1111111111111111,\"#46039f\"],[0.2222222222222222,\"#7201a8\"],[0.3333333333333333,\"#9c179e\"],[0.4444444444444444,\"#bd3786\"],[0.5555555555555556,\"#d8576b\"],[0.6666666666666666,\"#ed7953\"],[0.7777777777777778,\"#fb9f3a\"],[0.8888888888888888,\"#fdca26\"],[1.0,\"#f0f921\"]],\"type\":\"contour\"}],\"contourcarpet\":[{\"colorbar\":{\"outlinewidth\":0,\"ticks\":\"\"},\"type\":\"contourcarpet\"}],\"heatmap\":[{\"colorbar\":{\"outlinewidth\":0,\"ticks\":\"\"},\"colorscale\":[[0.0,\"#0d0887\"],[0.1111111111111111,\"#46039f\"],[0.2222222222222222,\"#7201a8\"],[0.3333333333333333,\"#9c179e\"],[0.4444444444444444,\"#bd3786\"],[0.5555555555555556,\"#d8576b\"],[0.6666666666666666,\"#ed7953\"],[0.7777777777777778,\"#fb9f3a\"],[0.8888888888888888,\"#fdca26\"],[1.0,\"#f0f921\"]],\"type\":\"heatmap\"}],\"heatmapgl\":[{\"colorbar\":{\"outlinewidth\":0,\"ticks\":\"\"},\"colorscale\":[[0.0,\"#0d0887\"],[0.1111111111111111,\"#46039f\"],[0.2222222222222222,\"#7201a8\"],[0.3333333333333333,\"#9c179e\"],[0.4444444444444444,\"#bd3786\"],[0.5555555555555556,\"#d8576b\"],[0.6666666666666666,\"#ed7953\"],[0.7777777777777778,\"#fb9f3a\"],[0.8888888888888888,\"#fdca26\"],[1.0,\"#f0f921\"]],\"type\":\"heatmapgl\"}],\"histogram\":[{\"marker\":{\"pattern\":{\"fillmode\":\"overlay\",\"size\":10,\"solidity\":0.2}},\"type\":\"histogram\"}],\"histogram2d\":[{\"colorbar\":{\"outlinewidth\":0,\"ticks\":\"\"},\"colorscale\":[[0.0,\"#0d0887\"],[0.1111111111111111,\"#46039f\"],[0.2222222222222222,\"#7201a8\"],[0.3333333333333333,\"#9c179e\"],[0.4444444444444444,\"#bd3786\"],[0.5555555555555556,\"#d8576b\"],[0.6666666666666666,\"#ed7953\"],[0.7777777777777778,\"#fb9f3a\"],[0.8888888888888888,\"#fdca26\"],[1.0,\"#f0f921\"]],\"type\":\"histogram2d\"}],\"histogram2dcontour\":[{\"colorbar\":{\"outlinewidth\":0,\"ticks\":\"\"},\"colorscale\":[[0.0,\"#0d0887\"],[0.1111111111111111,\"#46039f\"],[0.2222222222222222,\"#7201a8\"],[0.3333333333333333,\"#9c179e\"],[0.4444444444444444,\"#bd3786\"],[0.5555555555555556,\"#d8576b\"],[0.6666666666666666,\"#ed7953\"],[0.7777777777777778,\"#fb9f3a\"],[0.8888888888888888,\"#fdca26\"],[1.0,\"#f0f921\"]],\"type\":\"histogram2dcontour\"}],\"mesh3d\":[{\"colorbar\":{\"outlinewidth\":0,\"ticks\":\"\"},\"type\":\"mesh3d\"}],\"parcoords\":[{\"line\":{\"colorbar\":{\"outlinewidth\":0,\"ticks\":\"\"}},\"type\":\"parcoords\"}],\"pie\":[{\"automargin\":true,\"type\":\"pie\"}],\"scatter\":[{\"marker\":{\"colorbar\":{\"outlinewidth\":0,\"ticks\":\"\"}},\"type\":\"scatter\"}],\"scatter3d\":[{\"line\":{\"colorbar\":{\"outlinewidth\":0,\"ticks\":\"\"}},\"marker\":{\"colorbar\":{\"outlinewidth\":0,\"ticks\":\"\"}},\"type\":\"scatter3d\"}],\"scattercarpet\":[{\"marker\":{\"colorbar\":{\"outlinewidth\":0,\"ticks\":\"\"}},\"type\":\"scattercarpet\"}],\"scattergeo\":[{\"marker\":{\"colorbar\":{\"outlinewidth\":0,\"ticks\":\"\"}},\"type\":\"scattergeo\"}],\"scattergl\":[{\"marker\":{\"colorbar\":{\"outlinewidth\":0,\"ticks\":\"\"}},\"type\":\"scattergl\"}],\"scattermapbox\":[{\"marker\":{\"colorbar\":{\"outlinewidth\":0,\"ticks\":\"\"}},\"type\":\"scattermapbox\"}],\"scatterpolar\":[{\"marker\":{\"colorbar\":{\"outlinewidth\":0,\"ticks\":\"\"}},\"type\":\"scatterpolar\"}],\"scatterpolargl\":[{\"marker\":{\"colorbar\":{\"outlinewidth\":0,\"ticks\":\"\"}},\"type\":\"scatterpolargl\"}],\"scatterternary\":[{\"marker\":{\"colorbar\":{\"outlinewidth\":0,\"ticks\":\"\"}},\"type\":\"scatterternary\"}],\"surface\":[{\"colorbar\":{\"outlinewidth\":0,\"ticks\":\"\"},\"colorscale\":[[0.0,\"#0d0887\"],[0.1111111111111111,\"#46039f\"],[0.2222222222222222,\"#7201a8\"],[0.3333333333333333,\"#9c179e\"],[0.4444444444444444,\"#bd3786\"],[0.5555555555555556,\"#d8576b\"],[0.6666666666666666,\"#ed7953\"],[0.7777777777777778,\"#fb9f3a\"],[0.8888888888888888,\"#fdca26\"],[1.0,\"#f0f921\"]],\"type\":\"surface\"}],\"table\":[{\"cells\":{\"fill\":{\"color\":\"#EBF0F8\"},\"line\":{\"color\":\"white\"}},\"header\":{\"fill\":{\"color\":\"#C8D4E3\"},\"line\":{\"color\":\"white\"}},\"type\":\"table\"}]},\"layout\":{\"annotationdefaults\":{\"arrowcolor\":\"#2a3f5f\",\"arrowhead\":0,\"arrowwidth\":1},\"autotypenumbers\":\"strict\",\"coloraxis\":{\"colorbar\":{\"outlinewidth\":0,\"ticks\":\"\"}},\"colorscale\":{\"diverging\":[[0,\"#8e0152\"],[0.1,\"#c51b7d\"],[0.2,\"#de77ae\"],[0.3,\"#f1b6da\"],[0.4,\"#fde0ef\"],[0.5,\"#f7f7f7\"],[0.6,\"#e6f5d0\"],[0.7,\"#b8e186\"],[0.8,\"#7fbc41\"],[0.9,\"#4d9221\"],[1,\"#276419\"]],\"sequential\":[[0.0,\"#0d0887\"],[0.1111111111111111,\"#46039f\"],[0.2222222222222222,\"#7201a8\"],[0.3333333333333333,\"#9c179e\"],[0.4444444444444444,\"#bd3786\"],[0.5555555555555556,\"#d8576b\"],[0.6666666666666666,\"#ed7953\"],[0.7777777777777778,\"#fb9f3a\"],[0.8888888888888888,\"#fdca26\"],[1.0,\"#f0f921\"]],\"sequentialminus\":[[0.0,\"#0d0887\"],[0.1111111111111111,\"#46039f\"],[0.2222222222222222,\"#7201a8\"],[0.3333333333333333,\"#9c179e\"],[0.4444444444444444,\"#bd3786\"],[0.5555555555555556,\"#d8576b\"],[0.6666666666666666,\"#ed7953\"],[0.7777777777777778,\"#fb9f3a\"],[0.8888888888888888,\"#fdca26\"],[1.0,\"#f0f921\"]]},\"colorway\":[\"#636efa\",\"#EF553B\",\"#00cc96\",\"#ab63fa\",\"#FFA15A\",\"#19d3f3\",\"#FF6692\",\"#B6E880\",\"#FF97FF\",\"#FECB52\"],\"font\":{\"color\":\"#2a3f5f\"},\"geo\":{\"bgcolor\":\"white\",\"lakecolor\":\"white\",\"landcolor\":\"#E5ECF6\",\"showlakes\":true,\"showland\":true,\"subunitcolor\":\"white\"},\"hoverlabel\":{\"align\":\"left\"},\"hovermode\":\"closest\",\"mapbox\":{\"style\":\"light\"},\"paper_bgcolor\":\"white\",\"plot_bgcolor\":\"#E5ECF6\",\"polar\":{\"angularaxis\":{\"gridcolor\":\"white\",\"linecolor\":\"white\",\"ticks\":\"\"},\"bgcolor\":\"#E5ECF6\",\"radialaxis\":{\"gridcolor\":\"white\",\"linecolor\":\"white\",\"ticks\":\"\"}},\"scene\":{\"xaxis\":{\"backgroundcolor\":\"#E5ECF6\",\"gridcolor\":\"white\",\"gridwidth\":2,\"linecolor\":\"white\",\"showbackground\":true,\"ticks\":\"\",\"zerolinecolor\":\"white\"},\"yaxis\":{\"backgroundcolor\":\"#E5ECF6\",\"gridcolor\":\"white\",\"gridwidth\":2,\"linecolor\":\"white\",\"showbackground\":true,\"ticks\":\"\",\"zerolinecolor\":\"white\"},\"zaxis\":{\"backgroundcolor\":\"#E5ECF6\",\"gridcolor\":\"white\",\"gridwidth\":2,\"linecolor\":\"white\",\"showbackground\":true,\"ticks\":\"\",\"zerolinecolor\":\"white\"}},\"shapedefaults\":{\"line\":{\"color\":\"#2a3f5f\"}},\"ternary\":{\"aaxis\":{\"gridcolor\":\"white\",\"linecolor\":\"white\",\"ticks\":\"\"},\"baxis\":{\"gridcolor\":\"white\",\"linecolor\":\"white\",\"ticks\":\"\"},\"bgcolor\":\"#E5ECF6\",\"caxis\":{\"gridcolor\":\"white\",\"linecolor\":\"white\",\"ticks\":\"\"}},\"title\":{\"x\":0.05},\"xaxis\":{\"automargin\":true,\"gridcolor\":\"white\",\"linecolor\":\"white\",\"ticks\":\"\",\"title\":{\"standoff\":15},\"zerolinecolor\":\"white\",\"zerolinewidth\":2},\"yaxis\":{\"automargin\":true,\"gridcolor\":\"white\",\"linecolor\":\"white\",\"ticks\":\"\",\"title\":{\"standoff\":15},\"zerolinecolor\":\"white\",\"zerolinewidth\":2}}},\"xaxis\":{\"anchor\":\"y\",\"domain\":[0.0,1.0],\"title\":{\"text\":\"AGE\"}},\"yaxis\":{\"anchor\":\"x\",\"domain\":[0.0,1.0],\"title\":{\"text\":\"MEDV\"}}},                        {\"responsive\": true}                    ).then(function(){\n",
       "                            \n",
       "var gd = document.getElementById('64fbdbf7-d9a4-4547-84f1-0df2333aaf16');\n",
       "var x = new MutationObserver(function (mutations, observer) {{\n",
       "        var display = window.getComputedStyle(gd).display;\n",
       "        if (!display || display === 'none') {{\n",
       "            console.log([gd, 'removed!']);\n",
       "            Plotly.purge(gd);\n",
       "            observer.disconnect();\n",
       "        }}\n",
       "}});\n",
       "\n",
       "// Listen for the removal of the full notebook cells\n",
       "var notebookContainer = gd.closest('#notebook-container');\n",
       "if (notebookContainer) {{\n",
       "    x.observe(notebookContainer, {childList: true});\n",
       "}}\n",
       "\n",
       "// Listen for the clearing of the current output cell\n",
       "var outputEl = gd.closest('.output');\n",
       "if (outputEl) {{\n",
       "    x.observe(outputEl, {childList: true});\n",
       "}}\n",
       "\n",
       "                        })                };                });            </script>        </div>"
      ]
     },
     "metadata": {},
     "output_type": "display_data"
    }
   ],
   "source": [
    "fig.show()"
   ]
  },
  {
   "cell_type": "code",
   "execution_count": 68,
   "metadata": {},
   "outputs": [
    {
     "data": {
      "text/html": [
       "<div>\n",
       "<style scoped>\n",
       "    .dataframe tbody tr th:only-of-type {\n",
       "        vertical-align: middle;\n",
       "    }\n",
       "\n",
       "    .dataframe tbody tr th {\n",
       "        vertical-align: top;\n",
       "    }\n",
       "\n",
       "    .dataframe thead th {\n",
       "        text-align: right;\n",
       "    }\n",
       "</style>\n",
       "<table border=\"1\" class=\"dataframe\">\n",
       "  <thead>\n",
       "    <tr style=\"text-align: right;\">\n",
       "      <th></th>\n",
       "      <th>MEDV</th>\n",
       "      <th>CRIM</th>\n",
       "      <th>ZN</th>\n",
       "      <th>INDUS</th>\n",
       "      <th>NOX</th>\n",
       "      <th>RM</th>\n",
       "      <th>AGE</th>\n",
       "      <th>DIS</th>\n",
       "      <th>TAX</th>\n",
       "      <th>PTRATIO</th>\n",
       "      <th>B</th>\n",
       "      <th>LSTAT</th>\n",
       "    </tr>\n",
       "  </thead>\n",
       "  <tbody>\n",
       "    <tr>\n",
       "      <th>MEDV</th>\n",
       "      <td>1.000000</td>\n",
       "      <td>-0.379695</td>\n",
       "      <td>0.365943</td>\n",
       "      <td>-0.478657</td>\n",
       "      <td>-0.427321</td>\n",
       "      <td>0.695360</td>\n",
       "      <td>-0.380223</td>\n",
       "      <td>0.249929</td>\n",
       "      <td>-0.468536</td>\n",
       "      <td>-0.507787</td>\n",
       "      <td>0.333461</td>\n",
       "      <td>-0.721975</td>\n",
       "    </tr>\n",
       "    <tr>\n",
       "      <th>CRIM</th>\n",
       "      <td>-0.379695</td>\n",
       "      <td>1.000000</td>\n",
       "      <td>-0.182930</td>\n",
       "      <td>0.391161</td>\n",
       "      <td>0.410377</td>\n",
       "      <td>-0.215434</td>\n",
       "      <td>0.344934</td>\n",
       "      <td>-0.366523</td>\n",
       "      <td>0.566528</td>\n",
       "      <td>0.273384</td>\n",
       "      <td>-0.370163</td>\n",
       "      <td>0.434044</td>\n",
       "    </tr>\n",
       "    <tr>\n",
       "      <th>ZN</th>\n",
       "      <td>0.365943</td>\n",
       "      <td>-0.182930</td>\n",
       "      <td>1.000000</td>\n",
       "      <td>-0.513336</td>\n",
       "      <td>-0.502287</td>\n",
       "      <td>0.316550</td>\n",
       "      <td>-0.541274</td>\n",
       "      <td>0.638388</td>\n",
       "      <td>-0.308334</td>\n",
       "      <td>-0.403085</td>\n",
       "      <td>0.167431</td>\n",
       "      <td>-0.407549</td>\n",
       "    </tr>\n",
       "    <tr>\n",
       "      <th>INDUS</th>\n",
       "      <td>-0.478657</td>\n",
       "      <td>0.391161</td>\n",
       "      <td>-0.513336</td>\n",
       "      <td>1.000000</td>\n",
       "      <td>0.740965</td>\n",
       "      <td>-0.381457</td>\n",
       "      <td>0.614592</td>\n",
       "      <td>-0.699639</td>\n",
       "      <td>0.716062</td>\n",
       "      <td>0.384806</td>\n",
       "      <td>-0.354597</td>\n",
       "      <td>0.567354</td>\n",
       "    </tr>\n",
       "    <tr>\n",
       "      <th>NOX</th>\n",
       "      <td>-0.427321</td>\n",
       "      <td>0.410377</td>\n",
       "      <td>-0.502287</td>\n",
       "      <td>0.740965</td>\n",
       "      <td>1.000000</td>\n",
       "      <td>-0.302188</td>\n",
       "      <td>0.711461</td>\n",
       "      <td>-0.769230</td>\n",
       "      <td>0.668023</td>\n",
       "      <td>0.188933</td>\n",
       "      <td>-0.380051</td>\n",
       "      <td>0.572379</td>\n",
       "    </tr>\n",
       "    <tr>\n",
       "      <th>RM</th>\n",
       "      <td>0.695360</td>\n",
       "      <td>-0.215434</td>\n",
       "      <td>0.316550</td>\n",
       "      <td>-0.381457</td>\n",
       "      <td>-0.302188</td>\n",
       "      <td>1.000000</td>\n",
       "      <td>-0.241351</td>\n",
       "      <td>0.205246</td>\n",
       "      <td>-0.292048</td>\n",
       "      <td>-0.355501</td>\n",
       "      <td>0.128069</td>\n",
       "      <td>-0.602962</td>\n",
       "    </tr>\n",
       "    <tr>\n",
       "      <th>AGE</th>\n",
       "      <td>-0.380223</td>\n",
       "      <td>0.344934</td>\n",
       "      <td>-0.541274</td>\n",
       "      <td>0.614592</td>\n",
       "      <td>0.711461</td>\n",
       "      <td>-0.241351</td>\n",
       "      <td>1.000000</td>\n",
       "      <td>-0.724353</td>\n",
       "      <td>0.500589</td>\n",
       "      <td>0.262723</td>\n",
       "      <td>-0.265282</td>\n",
       "      <td>0.574893</td>\n",
       "    </tr>\n",
       "    <tr>\n",
       "      <th>DIS</th>\n",
       "      <td>0.249929</td>\n",
       "      <td>-0.366523</td>\n",
       "      <td>0.638388</td>\n",
       "      <td>-0.699639</td>\n",
       "      <td>-0.769230</td>\n",
       "      <td>0.205246</td>\n",
       "      <td>-0.724353</td>\n",
       "      <td>1.000000</td>\n",
       "      <td>-0.534432</td>\n",
       "      <td>-0.232471</td>\n",
       "      <td>0.291512</td>\n",
       "      <td>-0.483429</td>\n",
       "    </tr>\n",
       "    <tr>\n",
       "      <th>TAX</th>\n",
       "      <td>-0.468536</td>\n",
       "      <td>0.566528</td>\n",
       "      <td>-0.308334</td>\n",
       "      <td>0.716062</td>\n",
       "      <td>0.668023</td>\n",
       "      <td>-0.292048</td>\n",
       "      <td>0.500589</td>\n",
       "      <td>-0.534432</td>\n",
       "      <td>1.000000</td>\n",
       "      <td>0.460853</td>\n",
       "      <td>-0.441808</td>\n",
       "      <td>0.524545</td>\n",
       "    </tr>\n",
       "    <tr>\n",
       "      <th>PTRATIO</th>\n",
       "      <td>-0.507787</td>\n",
       "      <td>0.273384</td>\n",
       "      <td>-0.403085</td>\n",
       "      <td>0.384806</td>\n",
       "      <td>0.188933</td>\n",
       "      <td>-0.355501</td>\n",
       "      <td>0.262723</td>\n",
       "      <td>-0.232471</td>\n",
       "      <td>0.460853</td>\n",
       "      <td>1.000000</td>\n",
       "      <td>-0.177383</td>\n",
       "      <td>0.373343</td>\n",
       "    </tr>\n",
       "    <tr>\n",
       "      <th>B</th>\n",
       "      <td>0.333461</td>\n",
       "      <td>-0.370163</td>\n",
       "      <td>0.167431</td>\n",
       "      <td>-0.354597</td>\n",
       "      <td>-0.380051</td>\n",
       "      <td>0.128069</td>\n",
       "      <td>-0.265282</td>\n",
       "      <td>0.291512</td>\n",
       "      <td>-0.441808</td>\n",
       "      <td>-0.177383</td>\n",
       "      <td>1.000000</td>\n",
       "      <td>-0.368886</td>\n",
       "    </tr>\n",
       "    <tr>\n",
       "      <th>LSTAT</th>\n",
       "      <td>-0.721975</td>\n",
       "      <td>0.434044</td>\n",
       "      <td>-0.407549</td>\n",
       "      <td>0.567354</td>\n",
       "      <td>0.572379</td>\n",
       "      <td>-0.602962</td>\n",
       "      <td>0.574893</td>\n",
       "      <td>-0.483429</td>\n",
       "      <td>0.524545</td>\n",
       "      <td>0.373343</td>\n",
       "      <td>-0.368886</td>\n",
       "      <td>1.000000</td>\n",
       "    </tr>\n",
       "  </tbody>\n",
       "</table>\n",
       "</div>"
      ],
      "text/plain": [
       "             MEDV      CRIM        ZN     INDUS       NOX        RM       AGE  \\\n",
       "MEDV     1.000000 -0.379695  0.365943 -0.478657 -0.427321  0.695360 -0.380223   \n",
       "CRIM    -0.379695  1.000000 -0.182930  0.391161  0.410377 -0.215434  0.344934   \n",
       "ZN       0.365943 -0.182930  1.000000 -0.513336 -0.502287  0.316550 -0.541274   \n",
       "INDUS   -0.478657  0.391161 -0.513336  1.000000  0.740965 -0.381457  0.614592   \n",
       "NOX     -0.427321  0.410377 -0.502287  0.740965  1.000000 -0.302188  0.711461   \n",
       "RM       0.695360 -0.215434  0.316550 -0.381457 -0.302188  1.000000 -0.241351   \n",
       "AGE     -0.380223  0.344934 -0.541274  0.614592  0.711461 -0.241351  1.000000   \n",
       "DIS      0.249929 -0.366523  0.638388 -0.699639 -0.769230  0.205246 -0.724353   \n",
       "TAX     -0.468536  0.566528 -0.308334  0.716062  0.668023 -0.292048  0.500589   \n",
       "PTRATIO -0.507787  0.273384 -0.403085  0.384806  0.188933 -0.355501  0.262723   \n",
       "B        0.333461 -0.370163  0.167431 -0.354597 -0.380051  0.128069 -0.265282   \n",
       "LSTAT   -0.721975  0.434044 -0.407549  0.567354  0.572379 -0.602962  0.574893   \n",
       "\n",
       "              DIS       TAX   PTRATIO         B     LSTAT  \n",
       "MEDV     0.249929 -0.468536 -0.507787  0.333461 -0.721975  \n",
       "CRIM    -0.366523  0.566528  0.273384 -0.370163  0.434044  \n",
       "ZN       0.638388 -0.308334 -0.403085  0.167431 -0.407549  \n",
       "INDUS   -0.699639  0.716062  0.384806 -0.354597  0.567354  \n",
       "NOX     -0.769230  0.668023  0.188933 -0.380051  0.572379  \n",
       "RM       0.205246 -0.292048 -0.355501  0.128069 -0.602962  \n",
       "AGE     -0.724353  0.500589  0.262723 -0.265282  0.574893  \n",
       "DIS      1.000000 -0.534432 -0.232471  0.291512 -0.483429  \n",
       "TAX     -0.534432  1.000000  0.460853 -0.441808  0.524545  \n",
       "PTRATIO -0.232471  0.460853  1.000000 -0.177383  0.373343  \n",
       "B        0.291512 -0.441808 -0.177383  1.000000 -0.368886  \n",
       "LSTAT   -0.483429  0.524545  0.373343 -0.368886  1.000000  "
      ]
     },
     "execution_count": 68,
     "metadata": {},
     "output_type": "execute_result"
    }
   ],
   "source": [
    "# Calculating correlation matrix\n",
    "ContinuousCols=['MEDV','CRIM', 'ZN', 'INDUS', 'NOX', 'RM', 'AGE', 'DIS', 'TAX',\n",
    "                 'PTRATIO', 'B', 'LSTAT']\n",
    "\n",
    "# Creating the correlation matrix\n",
    "CorrelationData=df1[ContinuousCols].corr()\n",
    "CorrelationData"
   ]
  },
  {
   "cell_type": "code",
   "execution_count": 69,
   "metadata": {},
   "outputs": [
    {
     "data": {
      "text/plain": [
       "MEDV       1.000000\n",
       "RM         0.695360\n",
       "PTRATIO   -0.507787\n",
       "LSTAT     -0.721975\n",
       "Name: MEDV, dtype: float64"
      ]
     },
     "execution_count": 69,
     "metadata": {},
     "output_type": "execute_result"
    }
   ],
   "source": [
    "CorrelationData['MEDV'][abs(CorrelationData['MEDV'])>0.5]"
   ]
  },
  {
   "cell_type": "code",
   "execution_count": 70,
   "metadata": {
    "scrolled": true
   },
   "outputs": [
    {
     "data": {
      "text/plain": [
       "<matplotlib.axes._subplots.AxesSubplot at 0x7f9478104cc0>"
      ]
     },
     "execution_count": 70,
     "metadata": {},
     "output_type": "execute_result"
    },
    {
     "data": {
      "image/png": "[encoded data removed]",
      "text/plain": [
       "<Figure size 432x288 with 2 Axes>"
      ]
     },
     "metadata": {
      "needs_background": "light"
     },
     "output_type": "display_data"
    }
   ],
   "source": [
    "sns.heatmap(df1.corr())"
   ]
  },
  {
   "cell_type": "code",
   "execution_count": 71,
   "metadata": {},
   "outputs": [],
   "source": [
    "X = df1.drop(['MEDV'], axis= 1)\n",
    "y = df1['MEDV']"
   ]
  },
  {
   "cell_type": "code",
   "execution_count": 72,
   "metadata": {},
   "outputs": [],
   "source": [
    "from sklearn.model_selection import train_test_split"
   ]
  },
  {
   "cell_type": "code",
   "execution_count": 73,
   "metadata": {},
   "outputs": [],
   "source": [
    "X_train,X_test,y_train,y_test= train_test_split(X,y,test_size= 0.2, random_state= 42)"
   ]
  },
  {
   "cell_type": "code",
   "execution_count": 74,
   "metadata": {},
   "outputs": [],
   "source": [
    "from sklearn.preprocessing import StandardScaler, MinMaxScaler"
   ]
  },
  {
   "cell_type": "code",
   "execution_count": 75,
   "metadata": {},
   "outputs": [],
   "source": [
    "scaler= StandardScaler()"
   ]
  },
  {
   "cell_type": "code",
   "execution_count": 76,
   "metadata": {},
   "outputs": [],
   "source": [
    "X_train_scaled = scaler.fit_transform(X_train)"
   ]
  },
  {
   "cell_type": "code",
   "execution_count": 77,
   "metadata": {},
   "outputs": [],
   "source": [
    "X_test_scaled = scaler.fit_transform(X_test)"
   ]
  },
  {
   "cell_type": "code",
   "execution_count": 78,
   "metadata": {},
   "outputs": [],
   "source": [
    "from sklearn.linear_model import LinearRegression"
   ]
  },
  {
   "cell_type": "code",
   "execution_count": 79,
   "metadata": {},
   "outputs": [],
   "source": [
    "lr = LinearRegression()"
   ]
  },
  {
   "cell_type": "code",
   "execution_count": 80,
   "metadata": {},
   "outputs": [],
   "source": [
    "lr_model = lr.fit(X_train_scaled,y_train)"
   ]
  },
  {
   "cell_type": "code",
   "execution_count": 81,
   "metadata": {},
   "outputs": [],
   "source": [
    "lr_predict = lr_model.predict(X_test_scaled)"
   ]
  },
  {
   "cell_type": "code",
   "execution_count": 82,
   "metadata": {},
   "outputs": [],
   "source": [
    "from sklearn.metrics import mean_absolute_error,mean_squared_error,r2_score"
   ]
  },
  {
   "cell_type": "code",
   "execution_count": 83,
   "metadata": {},
   "outputs": [
    {
     "data": {
      "text/plain": [
       "3.858314660558821"
      ]
     },
     "execution_count": 83,
     "metadata": {},
     "output_type": "execute_result"
    }
   ],
   "source": [
    "mean_absolute_error(y_test,lr_predict)"
   ]
  },
  {
   "cell_type": "code",
   "execution_count": 84,
   "metadata": {},
   "outputs": [
    {
     "data": {
      "text/plain": [
       "28.181821584466732"
      ]
     },
     "execution_count": 84,
     "metadata": {},
     "output_type": "execute_result"
    }
   ],
   "source": [
    "mean_squared_error(y_test, lr_predict)"
   ]
  },
  {
   "cell_type": "code",
   "execution_count": 85,
   "metadata": {},
   "outputs": [
    {
     "data": {
      "text/plain": [
       "0.6157047902075993"
      ]
     },
     "execution_count": 85,
     "metadata": {},
     "output_type": "execute_result"
    }
   ],
   "source": [
    "r2_score(y_test, lr_predict)"
   ]
  },
  {
   "cell_type": "code",
   "execution_count": 86,
   "metadata": {},
   "outputs": [],
   "source": [
    "from sklearn.ensemble import RandomForestRegressor"
   ]
  },
  {
   "cell_type": "code",
   "execution_count": 87,
   "metadata": {},
   "outputs": [],
   "source": [
    "rf = RandomForestRegressor()"
   ]
  },
  {
   "cell_type": "code",
   "execution_count": 88,
   "metadata": {},
   "outputs": [
    {
     "name": "stderr",
     "output_type": "stream",
     "text": [
      "/home/scypyuser/anaconda3/lib/python3.7/site-packages/sklearn/ensemble/forest.py:245: FutureWarning:\n",
      "\n",
      "The default value of n_estimators will change from 10 in version 0.20 to 100 in 0.22.\n",
      "\n"
     ]
    }
   ],
   "source": [
    "rf_model = rf.fit(X_train_scaled,y_train)"
   ]
  },
  {
   "cell_type": "code",
   "execution_count": 89,
   "metadata": {},
   "outputs": [],
   "source": [
    "rf_pred = rf_model.predict(X_test_scaled)"
   ]
  },
  {
   "cell_type": "code",
   "execution_count": 90,
   "metadata": {},
   "outputs": [
    {
     "data": {
      "text/plain": [
       "2.4878431372549015"
      ]
     },
     "execution_count": 90,
     "metadata": {},
     "output_type": "execute_result"
    }
   ],
   "source": [
    "mean_absolute_error(y_test,rf_pred)"
   ]
  },
  {
   "cell_type": "code",
   "execution_count": 91,
   "metadata": {},
   "outputs": [
    {
     "data": {
      "text/plain": [
       "12.365652941176466"
      ]
     },
     "execution_count": 91,
     "metadata": {},
     "output_type": "execute_result"
    }
   ],
   "source": [
    "mean_squared_error(y_test, rf_pred)"
   ]
  },
  {
   "cell_type": "code",
   "execution_count": 92,
   "metadata": {},
   "outputs": [
    {
     "data": {
      "text/plain": [
       "0.8313784942181073"
      ]
     },
     "execution_count": 92,
     "metadata": {},
     "output_type": "execute_result"
    }
   ],
   "source": [
    "r2_score(y_test, rf_pred)"
   ]
  },
  {
   "cell_type": "code",
   "execution_count": 93,
   "metadata": {},
   "outputs": [],
   "source": [
    "from sklearn.svm import SVR"
   ]
  },
  {
   "cell_type": "code",
   "execution_count": 94,
   "metadata": {},
   "outputs": [],
   "source": [
    "sr = SVR()"
   ]
  },
  {
   "cell_type": "code",
   "execution_count": 95,
   "metadata": {},
   "outputs": [],
   "source": [
    "svr_model = sr.fit(X_train_scaled,y_train)"
   ]
  },
  {
   "cell_type": "code",
   "execution_count": 96,
   "metadata": {},
   "outputs": [],
   "source": [
    "svr_pred = svr_model.predict(X_test_scaled)"
   ]
  },
  {
   "cell_type": "code",
   "execution_count": 97,
   "metadata": {},
   "outputs": [
    {
     "data": {
      "text/plain": [
       "3.2390823947498233"
      ]
     },
     "execution_count": 97,
     "metadata": {},
     "output_type": "execute_result"
    }
   ],
   "source": [
    "mean_absolute_error(y_test, svr_pred)"
   ]
  },
  {
   "cell_type": "code",
   "execution_count": 98,
   "metadata": {},
   "outputs": [
    {
     "data": {
      "text/plain": [
       "29.502394223174324"
      ]
     },
     "execution_count": 98,
     "metadata": {},
     "output_type": "execute_result"
    }
   ],
   "source": [
    "mean_squared_error(y_test, svr_pred)"
   ]
  },
  {
   "cell_type": "code",
   "execution_count": 99,
   "metadata": {},
   "outputs": [
    {
     "data": {
      "text/plain": [
       "0.5976970919572506"
      ]
     },
     "execution_count": 99,
     "metadata": {},
     "output_type": "execute_result"
    }
   ],
   "source": [
    "r2_score(y_test, svr_pred)"
   ]
  },
  {
   "cell_type": "code",
   "execution_count": null,
   "metadata": {},
   "outputs": [],
   "source": []
  },
  {
   "cell_type": "code",
   "execution_count": null,
   "metadata": {},
   "outputs": [],
   "source": []
  },
  {
   "cell_type": "code",
   "execution_count": null,
   "metadata": {},
   "outputs": [],
   "source": []
  },
  {
   "cell_type": "code",
   "execution_count": null,
   "metadata": {},
   "outputs": [],
   "source": []
  },
  {
   "cell_type": "code",
   "execution_count": null,
   "metadata": {},
   "outputs": [],
   "source": []
  }
 ],
 "metadata": {
  "kernelspec": {
   "display_name": "Python 3",
   "language": "python",
   "name": "python3"
  },
  "language_info": {
   "codemirror_mode": {
    "name": "ipython",
    "version": 3
   },
   "file_extension": ".py",
   "mimetype": "text/x-python",
   "name": "python",
   "nbconvert_exporter": "python",
   "pygments_lexer": "ipython3",
   "version": "3.7.3"
  }
 },
 "nbformat": 4,
 "nbformat_minor": 2
}
